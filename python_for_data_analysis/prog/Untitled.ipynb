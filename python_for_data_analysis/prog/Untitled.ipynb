{
 "cells": [
  {
   "cell_type": "code",
   "execution_count": 1,
   "metadata": {},
   "outputs": [],
   "source": [
    "import pandas as pd\n",
    "import matplotlib.pyplot as plt\n",
    "\n",
    "train = pd.read_csv('C:/Users/cg08900/Documents/Pandora/Lavoro/Locale/Stima Immobiliare/datasets/stima_avm_train.csv', sep = \"|\")\n",
    "test = pd.read_csv('C:/Users/cg08900/Documents/Pandora/Lavoro/Locale/Stima Immobiliare/datasets/stima_avm_test.csv', sep = \"|\")"
   ]
  },
  {
   "cell_type": "code",
   "execution_count": 2,
   "metadata": {},
   "outputs": [
    {
     "data": {
      "text/html": [
       "<div>\n",
       "<style scoped>\n",
       "    .dataframe tbody tr th:only-of-type {\n",
       "        vertical-align: middle;\n",
       "    }\n",
       "\n",
       "    .dataframe tbody tr th {\n",
       "        vertical-align: top;\n",
       "    }\n",
       "\n",
       "    .dataframe thead th {\n",
       "        text-align: right;\n",
       "    }\n",
       "</style>\n",
       "<table border=\"1\" class=\"dataframe\">\n",
       "  <thead>\n",
       "    <tr style=\"text-align: right;\">\n",
       "      <th></th>\n",
       "      <th>n_edifici_res</th>\n",
       "      <th>n_bus_stops_r500</th>\n",
       "      <th>d_closest_metro_station</th>\n",
       "      <th>d_closest_railway_station</th>\n",
       "      <th>c_green_areas_clustered</th>\n",
       "      <th>l_pedestrian_paths_r500</th>\n",
       "      <th>n_historical_pois_r500</th>\n",
       "      <th>n_hotels_r500</th>\n",
       "      <th>n_kindergartens_r500</th>\n",
       "      <th>d_closest_airport</th>\n",
       "      <th>...</th>\n",
       "      <th>si_cella</th>\n",
       "      <th>ss_ext</th>\n",
       "      <th>ss_fam</th>\n",
       "      <th>ss_soc</th>\n",
       "      <th>ss_st</th>\n",
       "      <th>ss_mob</th>\n",
       "      <th>ss_edi</th>\n",
       "      <th>ss_osm</th>\n",
       "      <th>ss_cvd</th>\n",
       "      <th>valoredimercato</th>\n",
       "    </tr>\n",
       "  </thead>\n",
       "  <tbody>\n",
       "    <tr>\n",
       "      <th>0</th>\n",
       "      <td>35</td>\n",
       "      <td>5</td>\n",
       "      <td>43582.407790</td>\n",
       "      <td>477.314534</td>\n",
       "      <td>0.0</td>\n",
       "      <td>449.386112</td>\n",
       "      <td>0</td>\n",
       "      <td>3</td>\n",
       "      <td>0</td>\n",
       "      <td>43762.135744</td>\n",
       "      <td>...</td>\n",
       "      <td>-2.314323</td>\n",
       "      <td>-2.494132</td>\n",
       "      <td>-2.512915</td>\n",
       "      <td>-2.450933</td>\n",
       "      <td>-2.362640</td>\n",
       "      <td>-2.368563</td>\n",
       "      <td>-2.587311</td>\n",
       "      <td>-2.379457</td>\n",
       "      <td>-2.310639</td>\n",
       "      <td>106000.0</td>\n",
       "    </tr>\n",
       "    <tr>\n",
       "      <th>1</th>\n",
       "      <td>35</td>\n",
       "      <td>5</td>\n",
       "      <td>43582.407790</td>\n",
       "      <td>477.314534</td>\n",
       "      <td>0.0</td>\n",
       "      <td>449.386112</td>\n",
       "      <td>0</td>\n",
       "      <td>3</td>\n",
       "      <td>0</td>\n",
       "      <td>43762.135744</td>\n",
       "      <td>...</td>\n",
       "      <td>-2.314323</td>\n",
       "      <td>-2.494132</td>\n",
       "      <td>-2.512915</td>\n",
       "      <td>-2.450933</td>\n",
       "      <td>-2.362640</td>\n",
       "      <td>-2.368563</td>\n",
       "      <td>-2.587311</td>\n",
       "      <td>-2.379457</td>\n",
       "      <td>-2.310639</td>\n",
       "      <td>154800.0</td>\n",
       "    </tr>\n",
       "    <tr>\n",
       "      <th>2</th>\n",
       "      <td>10</td>\n",
       "      <td>16</td>\n",
       "      <td>2362.093642</td>\n",
       "      <td>1600.652620</td>\n",
       "      <td>0.0</td>\n",
       "      <td>250.757592</td>\n",
       "      <td>0</td>\n",
       "      <td>1</td>\n",
       "      <td>0</td>\n",
       "      <td>13092.292379</td>\n",
       "      <td>...</td>\n",
       "      <td>-2.818069</td>\n",
       "      <td>-2.494132</td>\n",
       "      <td>-2.978809</td>\n",
       "      <td>-2.637844</td>\n",
       "      <td>-2.673811</td>\n",
       "      <td>-2.368563</td>\n",
       "      <td>-2.710469</td>\n",
       "      <td>-2.559831</td>\n",
       "      <td>-2.341720</td>\n",
       "      <td>110000.0</td>\n",
       "    </tr>\n",
       "    <tr>\n",
       "      <th>3</th>\n",
       "      <td>4</td>\n",
       "      <td>8</td>\n",
       "      <td>1615.134979</td>\n",
       "      <td>1317.766174</td>\n",
       "      <td>0.0</td>\n",
       "      <td>1338.370829</td>\n",
       "      <td>0</td>\n",
       "      <td>0</td>\n",
       "      <td>3</td>\n",
       "      <td>43762.135744</td>\n",
       "      <td>...</td>\n",
       "      <td>-3.009426</td>\n",
       "      <td>-2.494132</td>\n",
       "      <td>-3.120696</td>\n",
       "      <td>-2.907802</td>\n",
       "      <td>-2.707347</td>\n",
       "      <td>-2.368563</td>\n",
       "      <td>-2.710469</td>\n",
       "      <td>-2.471294</td>\n",
       "      <td>-2.341720</td>\n",
       "      <td>198000.0</td>\n",
       "    </tr>\n",
       "    <tr>\n",
       "      <th>4</th>\n",
       "      <td>124</td>\n",
       "      <td>6</td>\n",
       "      <td>43582.407790</td>\n",
       "      <td>101.819188</td>\n",
       "      <td>0.0</td>\n",
       "      <td>73.192558</td>\n",
       "      <td>0</td>\n",
       "      <td>0</td>\n",
       "      <td>0</td>\n",
       "      <td>43762.135744</td>\n",
       "      <td>...</td>\n",
       "      <td>-2.882244</td>\n",
       "      <td>-2.494132</td>\n",
       "      <td>-2.722226</td>\n",
       "      <td>-2.824426</td>\n",
       "      <td>-2.717288</td>\n",
       "      <td>-2.368563</td>\n",
       "      <td>-2.519824</td>\n",
       "      <td>-2.529206</td>\n",
       "      <td>-2.308975</td>\n",
       "      <td>95000.0</td>\n",
       "    </tr>\n",
       "  </tbody>\n",
       "</table>\n",
       "<p>5 rows × 249 columns</p>\n",
       "</div>"
      ],
      "text/plain": [
       "   n_edifici_res  n_bus_stops_r500  d_closest_metro_station  \\\n",
       "0             35                 5             43582.407790   \n",
       "1             35                 5             43582.407790   \n",
       "2             10                16              2362.093642   \n",
       "3              4                 8              1615.134979   \n",
       "4            124                 6             43582.407790   \n",
       "\n",
       "   d_closest_railway_station  c_green_areas_clustered  \\\n",
       "0                 477.314534                      0.0   \n",
       "1                 477.314534                      0.0   \n",
       "2                1600.652620                      0.0   \n",
       "3                1317.766174                      0.0   \n",
       "4                 101.819188                      0.0   \n",
       "\n",
       "   l_pedestrian_paths_r500  n_historical_pois_r500  n_hotels_r500  \\\n",
       "0               449.386112                       0              3   \n",
       "1               449.386112                       0              3   \n",
       "2               250.757592                       0              1   \n",
       "3              1338.370829                       0              0   \n",
       "4                73.192558                       0              0   \n",
       "\n",
       "   n_kindergartens_r500  d_closest_airport       ...         si_cella  \\\n",
       "0                     0       43762.135744       ...        -2.314323   \n",
       "1                     0       43762.135744       ...        -2.314323   \n",
       "2                     0       13092.292379       ...        -2.818069   \n",
       "3                     3       43762.135744       ...        -3.009426   \n",
       "4                     0       43762.135744       ...        -2.882244   \n",
       "\n",
       "     ss_ext    ss_fam    ss_soc     ss_st    ss_mob    ss_edi    ss_osm  \\\n",
       "0 -2.494132 -2.512915 -2.450933 -2.362640 -2.368563 -2.587311 -2.379457   \n",
       "1 -2.494132 -2.512915 -2.450933 -2.362640 -2.368563 -2.587311 -2.379457   \n",
       "2 -2.494132 -2.978809 -2.637844 -2.673811 -2.368563 -2.710469 -2.559831   \n",
       "3 -2.494132 -3.120696 -2.907802 -2.707347 -2.368563 -2.710469 -2.471294   \n",
       "4 -2.494132 -2.722226 -2.824426 -2.717288 -2.368563 -2.519824 -2.529206   \n",
       "\n",
       "     ss_cvd  valoredimercato  \n",
       "0 -2.310639         106000.0  \n",
       "1 -2.310639         154800.0  \n",
       "2 -2.341720         110000.0  \n",
       "3 -2.341720         198000.0  \n",
       "4 -2.308975          95000.0  \n",
       "\n",
       "[5 rows x 249 columns]"
      ]
     },
     "execution_count": 2,
     "metadata": {},
     "output_type": "execute_result"
    }
   ],
   "source": [
    "train.head()"
   ]
  },
  {
   "cell_type": "code",
   "execution_count": 3,
   "metadata": {},
   "outputs": [
    {
     "data": {
      "text/plain": [
       "(136820, 249)"
      ]
     },
     "execution_count": 3,
     "metadata": {},
     "output_type": "execute_result"
    }
   ],
   "source": [
    "train.shape"
   ]
  },
  {
   "cell_type": "code",
   "execution_count": 5,
   "metadata": {},
   "outputs": [
    {
     "data": {
      "text/plain": [
       "n_edifici_res                  int64\n",
       "n_bus_stops_r500               int64\n",
       "d_closest_metro_station      float64\n",
       "d_closest_railway_station    float64\n",
       "c_green_areas_clustered      float64\n",
       "dtype: object"
      ]
     },
     "execution_count": 5,
     "metadata": {},
     "output_type": "execute_result"
    }
   ],
   "source": [
    "train.dtypes.head()"
   ]
  },
  {
   "cell_type": "code",
   "execution_count": 8,
   "metadata": {},
   "outputs": [
    {
     "data": {
      "text/plain": [
       "<matplotlib.axes._subplots.AxesSubplot at 0x17606607a20>"
      ]
     },
     "execution_count": 8,
     "metadata": {},
     "output_type": "execute_result"
    },
    {
     "data": {
      "image/png": "[encoded data removed]",
      "text/plain": [
       "<Figure size 432x288 with 1 Axes>"
      ]
     },
     "metadata": {},
     "output_type": "display_data"
    }
   ],
   "source": [
    "train.valoredimercato.plot(kind = 'hist', bins = 20)"
   ]
  },
  {
   "cell_type": "code",
   "execution_count": 11,
   "metadata": {},
   "outputs": [
    {
     "data": {
      "text/plain": [
       "<matplotlib.axes._subplots.AxesSubplot at 0x1760713b240>"
      ]
     },
     "execution_count": 11,
     "metadata": {},
     "output_type": "execute_result"
    },
    {
     "data": {
      "image/png": "[encoded data removed]",
      "text/plain": [
       "<Figure size 432x288 with 1 Axes>"
      ]
     },
     "metadata": {},
     "output_type": "display_data"
    }
   ],
   "source": [
    "train[train.valoredimercato < 400000].valoredimercato.plot(kind = 'box')"
   ]
  },
  {
   "cell_type": "code",
   "execution_count": 12,
   "metadata": {},
   "outputs": [
    {
     "data": {
      "text/plain": [
       "<matplotlib.axes._subplots.AxesSubplot at 0x176070316d8>"
      ]
     },
     "execution_count": 12,
     "metadata": {},
     "output_type": "execute_result"
    },
    {
     "data": {
      "image/png": "[encoded data removed]",
      "text/plain": [
       "<Figure size 432x288 with 1 Axes>"
      ]
     },
     "metadata": {},
     "output_type": "display_data"
    }
   ],
   "source": [
    "train[train.valoredimercato < 400000].valoredimercato.plot(kind = 'density')"
   ]
  },
  {
   "cell_type": "code",
   "execution_count": 17,
   "metadata": {},
   "outputs": [
    {
     "data": {
      "text/plain": [
       "array(['A/3', 'A/2', 'A/7', 'A/4', 'A/10', 'A/5', 'A/6', 'A/1', 'A/11',\n",
       "       'A/8', 'A/9'], dtype=object)"
      ]
     },
     "execution_count": 17,
     "metadata": {},
     "output_type": "execute_result"
    }
   ],
   "source": [
    "train.cd_categoria.unique()"
   ]
  },
  {
   "cell_type": "code",
   "execution_count": 21,
   "metadata": {},
   "outputs": [
    {
     "data": {
      "text/plain": [
       "<matplotlib.axes._subplots.AxesSubplot at 0x17606fffb70>"
      ]
     },
     "execution_count": 21,
     "metadata": {},
     "output_type": "execute_result"
    },
    {
     "data": {
      "image/png": "[encoded data removed]",
      "text/plain": [
       "<Figure size 432x288 with 1 Axes>"
      ]
     },
     "metadata": {},
     "output_type": "display_data"
    }
   ],
   "source": [
    "train.cd_categoria.value_counts().sort_index().plot(kind = 'bar')"
   ]
  },
  {
   "cell_type": "code",
   "execution_count": 23,
   "metadata": {},
   "outputs": [
    {
     "data": {
      "text/plain": [
       "cd_categoria\n",
       "A/5     105661.869124\n",
       "A/11    127443.333333\n",
       "A/4     132796.365603\n",
       "A/6     139608.752525\n",
       "A/3     155881.143236\n",
       "A/2     191412.184482\n",
       "A/10    197510.246824\n",
       "A/7     256791.004254\n",
       "A/9     281000.000000\n",
       "A/1     443378.574286\n",
       "A/8     517385.220588\n",
       "Name: valoredimercato, dtype: float64"
      ]
     },
     "execution_count": 23,
     "metadata": {},
     "output_type": "execute_result"
    }
   ],
   "source": [
    "train.groupby('cd_categoria').valoredimercato.mean().sort_values()"
   ]
  },
  {
   "cell_type": "code",
   "execution_count": 28,
   "metadata": {},
   "outputs": [
    {
     "data": {
      "text/html": [
       "<div>\n",
       "<style scoped>\n",
       "    .dataframe tbody tr th:only-of-type {\n",
       "        vertical-align: middle;\n",
       "    }\n",
       "\n",
       "    .dataframe tbody tr th {\n",
       "        vertical-align: top;\n",
       "    }\n",
       "\n",
       "    .dataframe thead th {\n",
       "        text-align: right;\n",
       "    }\n",
       "</style>\n",
       "<table border=\"1\" class=\"dataframe\">\n",
       "  <thead>\n",
       "    <tr style=\"text-align: right;\">\n",
       "      <th></th>\n",
       "      <th>count</th>\n",
       "      <th>min</th>\n",
       "      <th>mean</th>\n",
       "      <th>median</th>\n",
       "      <th>max</th>\n",
       "    </tr>\n",
       "    <tr>\n",
       "      <th>cd_categoria</th>\n",
       "      <th></th>\n",
       "      <th></th>\n",
       "      <th></th>\n",
       "      <th></th>\n",
       "      <th></th>\n",
       "    </tr>\n",
       "  </thead>\n",
       "  <tbody>\n",
       "    <tr>\n",
       "      <th>A/5</th>\n",
       "      <td>468</td>\n",
       "      <td>3000.0</td>\n",
       "      <td>105661.869124</td>\n",
       "      <td>70000.0</td>\n",
       "      <td>650700.0</td>\n",
       "    </tr>\n",
       "    <tr>\n",
       "      <th>A/6</th>\n",
       "      <td>99</td>\n",
       "      <td>6200.0</td>\n",
       "      <td>139608.752525</td>\n",
       "      <td>101722.5</td>\n",
       "      <td>779025.0</td>\n",
       "    </tr>\n",
       "    <tr>\n",
       "      <th>A/4</th>\n",
       "      <td>10661</td>\n",
       "      <td>1.0</td>\n",
       "      <td>132796.365603</td>\n",
       "      <td>114000.0</td>\n",
       "      <td>905000.0</td>\n",
       "    </tr>\n",
       "    <tr>\n",
       "      <th>A/3</th>\n",
       "      <td>49281</td>\n",
       "      <td>1.0</td>\n",
       "      <td>155881.143236</td>\n",
       "      <td>137362.5</td>\n",
       "      <td>998000.0</td>\n",
       "    </tr>\n",
       "    <tr>\n",
       "      <th>A/10</th>\n",
       "      <td>551</td>\n",
       "      <td>16000.0</td>\n",
       "      <td>197510.246824</td>\n",
       "      <td>144000.0</td>\n",
       "      <td>995600.0</td>\n",
       "    </tr>\n",
       "    <tr>\n",
       "      <th>A/11</th>\n",
       "      <td>3</td>\n",
       "      <td>51000.0</td>\n",
       "      <td>127443.333333</td>\n",
       "      <td>154330.0</td>\n",
       "      <td>177000.0</td>\n",
       "    </tr>\n",
       "    <tr>\n",
       "      <th>A/2</th>\n",
       "      <td>65559</td>\n",
       "      <td>1.0</td>\n",
       "      <td>191412.184482</td>\n",
       "      <td>163000.0</td>\n",
       "      <td>999920.0</td>\n",
       "    </tr>\n",
       "    <tr>\n",
       "      <th>A/7</th>\n",
       "      <td>10093</td>\n",
       "      <td>1.0</td>\n",
       "      <td>256791.004254</td>\n",
       "      <td>230000.0</td>\n",
       "      <td>998550.0</td>\n",
       "    </tr>\n",
       "    <tr>\n",
       "      <th>A/9</th>\n",
       "      <td>1</td>\n",
       "      <td>281000.0</td>\n",
       "      <td>281000.000000</td>\n",
       "      <td>281000.0</td>\n",
       "      <td>281000.0</td>\n",
       "    </tr>\n",
       "    <tr>\n",
       "      <th>A/1</th>\n",
       "      <td>70</td>\n",
       "      <td>13000.0</td>\n",
       "      <td>443378.574286</td>\n",
       "      <td>409250.0</td>\n",
       "      <td>973350.0</td>\n",
       "    </tr>\n",
       "    <tr>\n",
       "      <th>A/8</th>\n",
       "      <td>34</td>\n",
       "      <td>82500.0</td>\n",
       "      <td>517385.220588</td>\n",
       "      <td>474500.0</td>\n",
       "      <td>869000.0</td>\n",
       "    </tr>\n",
       "  </tbody>\n",
       "</table>\n",
       "</div>"
      ],
      "text/plain": [
       "              count       min           mean    median       max\n",
       "cd_categoria                                                    \n",
       "A/5             468    3000.0  105661.869124   70000.0  650700.0\n",
       "A/6              99    6200.0  139608.752525  101722.5  779025.0\n",
       "A/4           10661       1.0  132796.365603  114000.0  905000.0\n",
       "A/3           49281       1.0  155881.143236  137362.5  998000.0\n",
       "A/10            551   16000.0  197510.246824  144000.0  995600.0\n",
       "A/11              3   51000.0  127443.333333  154330.0  177000.0\n",
       "A/2           65559       1.0  191412.184482  163000.0  999920.0\n",
       "A/7           10093       1.0  256791.004254  230000.0  998550.0\n",
       "A/9               1  281000.0  281000.000000  281000.0  281000.0\n",
       "A/1              70   13000.0  443378.574286  409250.0  973350.0\n",
       "A/8              34   82500.0  517385.220588  474500.0  869000.0"
      ]
     },
     "execution_count": 28,
     "metadata": {},
     "output_type": "execute_result"
    }
   ],
   "source": [
    "train.groupby(['cd_categoria']).valoredimercato.agg(['count', 'min', 'mean', 'median', 'max']).sort_values('median')"
   ]
  },
  {
   "cell_type": "code",
   "execution_count": null,
   "metadata": {},
   "outputs": [],
   "source": []
  }
 ],
 "metadata": {
  "kernelspec": {
   "display_name": "Python 3",
   "language": "python",
   "name": "python3"
  },
  "language_info": {
   "codemirror_mode": {
    "name": "ipython",
    "version": 3
   },
   "file_extension": ".py",
   "mimetype": "text/x-python",
   "name": "python",
   "nbconvert_exporter": "python",
   "pygments_lexer": "ipython3",
   "version": "3.6.5"
  },
  "varInspector": {
   "cols": {
    "lenName": 16,
    "lenType": 16,
    "lenVar": 40
   },
   "kernels_config": {
    "python": {
     "delete_cmd_postfix": "",
     "delete_cmd_prefix": "del ",
     "library": "var_list.py",
     "varRefreshCmd": "print(var_dic_list())"
    },
    "r": {
     "delete_cmd_postfix": ") ",
     "delete_cmd_prefix": "rm(",
     "library": "var_list.r",
     "varRefreshCmd": "cat(var_dic_list()) "
    }
   },
   "types_to_exclude": [
    "module",
    "function",
    "builtin_function_or_method",
    "instance",
    "_Feature"
   ],
   "window_display": false
  }
 },
 "nbformat": 4,
 "nbformat_minor": 2
}
