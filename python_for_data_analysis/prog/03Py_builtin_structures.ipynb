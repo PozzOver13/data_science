{
 "cells": [
  {
   "cell_type": "markdown",
   "metadata": {},
   "source": [
    "# Chapter 3. Built-in Data Structures, Functions, and Files\n",
    "\n",
    "Andiamo a capire le strutture base di python:\n",
    "- tuples\n",
    "- lists\n",
    "- dicts\n",
    "- sets"
   ]
  },
  {
   "cell_type": "markdown",
   "metadata": {},
   "source": [
    "## Tuple\n",
    "\n",
    "#### Appunti\n",
    "Ricorda che le tuple non sono mutabili; quindi dopo averle create non e' piu' possibile modificarle.\n",
    "Pero' e' possibile modificare gli elementi modificabili all'interno (es: liste)\n",
    "\n",
    "Esiste la funzione tuple() pero' spesso e' possibile crearle tramite \",\" \n",
    "\n",
    "Utili per restituire piu' valori in una funzione\n"
   ]
  },
  {
   "cell_type": "code",
   "execution_count": 2,
   "metadata": {},
   "outputs": [],
   "source": [
    "tup = 4, 5, 6\n",
    "tup"
   ]
  },
  {
   "cell_type": "code",
   "execution_count": 4,
   "metadata": {},
   "outputs": [
    {
     "data": {
      "text/plain": [
       "((4, 5, 6), (7, 8))"
      ]
     },
     "execution_count": 4,
     "metadata": {},
     "output_type": "execute_result"
    }
   ],
   "source": [
    "nested_tup = (4, 5, 6), (7, 8)\n",
    "nested_tup"
   ]
  },
  {
   "cell_type": "code",
   "execution_count": 6,
   "metadata": {
    "scrolled": true
   },
   "outputs": [],
   "source": [
    "# ogni elemento puo' essere trasformato in una tupla \n",
    "tuple([4, 0, 2])\n",
    "tup = tuple('prova')"
   ]
  },
  {
   "cell_type": "code",
   "execution_count": 7,
   "metadata": {},
   "outputs": [
    {
     "data": {
      "text/plain": [
       "'p'"
      ]
     },
     "execution_count": 7,
     "metadata": {},
     "output_type": "execute_result"
    }
   ],
   "source": [
    "tup[0]"
   ]
  },
  {
   "cell_type": "code",
   "execution_count": 8,
   "metadata": {},
   "outputs": [
    {
     "data": {
      "text/plain": [
       "(4, None, 'foo', 6, 0, 'bar')"
      ]
     },
     "execution_count": 8,
     "metadata": {},
     "output_type": "execute_result"
    }
   ],
   "source": [
    "# il + permette di combinare piu' liste in un'unica tupla di dimensione maggiore\n",
    "(4, None, 'foo') + (6, 0) + ('bar',)"
   ]
  },
  {
   "cell_type": "code",
   "execution_count": 9,
   "metadata": {},
   "outputs": [
    {
     "data": {
      "text/plain": [
       "('foo', 'bar', 'foo', 'bar', 'foo', 'bar', 'foo', 'bar')"
      ]
     },
     "execution_count": 9,
     "metadata": {},
     "output_type": "execute_result"
    }
   ],
   "source": [
    "# moltiplicare una tupla * un valore intero permette di modificarne la dimensione\n",
    "('foo', 'bar') * 4"
   ]
  },
  {
   "cell_type": "code",
   "execution_count": 10,
   "metadata": {},
   "outputs": [
    {
     "data": {
      "text/plain": [
       "5"
      ]
     },
     "execution_count": 10,
     "metadata": {},
     "output_type": "execute_result"
    }
   ],
   "source": [
    "# python immagina di spacchettare la tupla negli n elementi che vede\n",
    "tup = (4, 5, 6)\n",
    "\n",
    "a, b, c = tup\n",
    "\n",
    "b"
   ]
  },
  {
   "cell_type": "code",
   "execution_count": 11,
   "metadata": {},
   "outputs": [
    {
     "name": "stdout",
     "output_type": "stream",
     "text": [
      "a=1, b=2, c=3\n",
      "a=4, b=5, c=6\n",
      "a=7, b=8, c=9\n"
     ]
    }
   ],
   "source": [
    "# unpacking tuples advanced 1.0\n",
    "seq = [(1, 2, 3), (4, 5, 6), (7, 8, 9)]\n",
    "\n",
    "for a, b, c in seq:\n",
    "    print('a={0}, b={1}, c={2}'.format(a, b, c))"
   ]
  },
  {
   "cell_type": "code",
   "execution_count": 12,
   "metadata": {},
   "outputs": [
    {
     "name": "stdout",
     "output_type": "stream",
     "text": [
      "1 2\n",
      "[3, 4, 5]\n"
     ]
    }
   ],
   "source": [
    "# unpacking advanced 2.0\n",
    "values = 1, 2, 3, 4, 5\n",
    "\n",
    "a,b, *rest = values # si puo' utilizzare anche solo *_ (non obbligatorio \"rest\")\n",
    "\n",
    "print(a,b)\n",
    "\n",
    "print(rest)"
   ]
  },
  {
   "cell_type": "code",
   "execution_count": 13,
   "metadata": {},
   "outputs": [
    {
     "data": {
      "text/plain": [
       "4"
      ]
     },
     "execution_count": 13,
     "metadata": {},
     "output_type": "execute_result"
    }
   ],
   "source": [
    "# metodi utili \n",
    "# nelle tuple poche non essendo un elemento modificabile\n",
    "a = (1, 2, 2, 2, 3, 4, 2)\n",
    "\n",
    "a.count(2)"
   ]
  },
  {
   "cell_type": "markdown",
   "metadata": {},
   "source": [
    "## Liste\n",
    "\n",
    "#### Appunti\n",
    "Diversamente dalle tuple, le liste sono elementi modificabili.\n",
    "\n",
    "Tramite parentesi quadre e' possibile trasformare una tupla in lista\n",
    "\n",
    "Il metodo .insert e' da considerarsi computazionalmente pesante. Stessa cosa con .extend.\n",
    "Creare ciclo con extend\n",
    "\n",
    "Anche il controllo di presenza di un elemento all'interno di una lista e' piu' lento rispetto a dicts e sets"
   ]
  },
  {
   "cell_type": "code",
   "execution_count": 18,
   "metadata": {},
   "outputs": [
    {
     "name": "stdout",
     "output_type": "stream",
     "text": [
      "['foo', 'bar', 'baz']\n",
      "bar\n",
      "barbar\n"
     ]
    }
   ],
   "source": [
    "tup = ('foo', 'bar', 'baz')\n",
    "\n",
    "tup_list = list(tup)\n",
    "\n",
    "print(tup_list)\n",
    "\n",
    "print(tup_list[1])\n",
    "\n",
    "tup_list[1] = 'barbar'\n",
    "\n",
    "print(tup_list[1])"
   ]
  },
  {
   "cell_type": "code",
   "execution_count": 19,
   "metadata": {},
   "outputs": [
    {
     "name": "stdout",
     "output_type": "stream",
     "text": [
      "range(0, 10)\n"
     ]
    },
    {
     "data": {
      "text/plain": [
       "[0, 1, 2, 3, 4, 5, 6, 7, 8, 9]"
      ]
     },
     "execution_count": 19,
     "metadata": {},
     "output_type": "execute_result"
    }
   ],
   "source": [
    "# le liste vengono spesso utilizzate come elementi iterabilizzabili\n",
    "gen = range(10)\n",
    "\n",
    "print(gen)\n",
    "\n",
    "list(gen) "
   ]
  },
  {
   "cell_type": "code",
   "execution_count": 24,
   "metadata": {},
   "outputs": [
    {
     "name": "stdout",
     "output_type": "stream",
     "text": [
      "['foo', 'bar', 'baz', 'dwarf']\n",
      "['foo', 'red', 'bar', 'baz', 'dwarf']\n",
      "['foo', 'red', 'baz', 'dwarf']\n",
      "['foo', 'red', 'dwarf']\n"
     ]
    }
   ],
   "source": [
    "# metodi utili\n",
    "tup_list = list(tup)\n",
    "\n",
    "tup_list.append('dwarf')\n",
    "\n",
    "print(tup_list)\n",
    "\n",
    "tup_list.insert(1, 'red')\n",
    "\n",
    "print(tup_list)\n",
    "\n",
    "tup_list.pop(2)\n",
    "\n",
    "print(tup_list)\n",
    "\n",
    "tup_list.remove('baz')\n",
    "\n",
    "print(tup_list)\n"
   ]
  },
  {
   "cell_type": "code",
   "execution_count": 26,
   "metadata": {},
   "outputs": [
    {
     "name": "stdout",
     "output_type": "stream",
     "text": [
      "True\n",
      "False\n"
     ]
    }
   ],
   "source": [
    "# controllare presenza assenza di un valore in una lista\n",
    "print('dwarf' in tup_list)\n",
    "\n",
    "print('dwarf' not in tup_list)"
   ]
  },
  {
   "cell_type": "code",
   "execution_count": 30,
   "metadata": {},
   "outputs": [
    {
     "name": "stdout",
     "output_type": "stream",
     "text": [
      "[4, None, 'foo', 7, 8, (2, 3)]\n",
      "[4, None, 'foo', 7, 8, (2, 3)]\n"
     ]
    }
   ],
   "source": [
    "# concatenazione\n",
    "print([4, None, 'foo'] + [7, 8, (2, 3)])\n",
    "\n",
    "# concatenzazione meno pesante a livello computazionale\n",
    "x = [4, None, 'foo']\n",
    "\n",
    "x.extend([7, 8, (2, 3)])\n",
    "\n",
    "print(x)"
   ]
  },
  {
   "cell_type": "code",
   "execution_count": 3,
   "metadata": {},
   "outputs": [
    {
     "data": {
      "text/plain": [
       "[1, 2, 3, 5, 7]"
      ]
     },
     "execution_count": 3,
     "metadata": {},
     "output_type": "execute_result"
    }
   ],
   "source": [
    "# sorting\n",
    "a = [7, 2, 5, 1, 3]\n",
    "a.sort()\n",
    "a"
   ]
  },
  {
   "cell_type": "code",
   "execution_count": 6,
   "metadata": {},
   "outputs": [
    {
     "data": {
      "text/plain": [
       "['He', 'saw', 'six', 'small', 'foxes']"
      ]
     },
     "execution_count": 6,
     "metadata": {},
     "output_type": "execute_result"
    }
   ],
   "source": [
    "# tramite l'argomento key e' possibile ordinare per una logica (qui lunghezza stringa)\n",
    "b = ['saw', 'small', 'He', 'foxes', 'six']\n",
    "b.sort(key=len)\n",
    "b"
   ]
  },
  {
   "cell_type": "code",
   "execution_count": 7,
   "metadata": {},
   "outputs": [
    {
     "data": {
      "text/plain": [
       "[2, 3, 7, 5]"
      ]
     },
     "execution_count": 7,
     "metadata": {},
     "output_type": "execute_result"
    }
   ],
   "source": [
    "# slicing\n",
    "seq = [7, 2, 3, 7, 5, 6, 0, 1]\n",
    "seq[1:5]"
   ]
  },
  {
   "cell_type": "code",
   "execution_count": 9,
   "metadata": {},
   "outputs": [
    {
     "data": {
      "text/plain": [
       "{'foo': 0, 'bar': 1, 'baz': 2}"
      ]
     },
     "execution_count": 9,
     "metadata": {},
     "output_type": "execute_result"
    }
   ],
   "source": [
    "# iteration | enumerate crea una doppia chiave di loop  dict(chiave, index)\n",
    "some_list = ['foo', 'bar', 'baz']\n",
    "mapping = {}\n",
    "\n",
    "for i, v in enumerate(some_list):\n",
    "    mapping[v] = i\n",
    "    \n",
    "mapping"
   ]
  },
  {
   "cell_type": "code",
   "execution_count": 10,
   "metadata": {},
   "outputs": [
    {
     "data": {
      "text/plain": [
       "[0, 1, 2, 2, 3, 6, 7]"
      ]
     },
     "execution_count": 10,
     "metadata": {},
     "output_type": "execute_result"
    }
   ],
   "source": [
    "# sorting\n",
    "sorted([7, 1, 2, 6, 0, 3, 2])"
   ]
  },
  {
   "cell_type": "code",
   "execution_count": 11,
   "metadata": {},
   "outputs": [
    {
     "data": {
      "text/plain": [
       "[('foo', 'one'), ('bar', 'two'), ('baz', 'three')]"
      ]
     },
     "execution_count": 11,
     "metadata": {},
     "output_type": "execute_result"
    }
   ],
   "source": [
    "# zip crea una lista di tuple\n",
    "seq1 = ['foo', 'bar', 'baz']\n",
    "seq2 = ['one', 'two', 'three']\n",
    "\n",
    "zipped = zip(seq1, seq2)\n",
    "\n",
    "list(zipped)"
   ]
  },
  {
   "cell_type": "code",
   "execution_count": 12,
   "metadata": {},
   "outputs": [
    {
     "data": {
      "text/plain": [
       "[('foo', 'one', False), ('bar', 'two', True)]"
      ]
     },
     "execution_count": 12,
     "metadata": {},
     "output_type": "execute_result"
    }
   ],
   "source": [
    "# zip ragiona utilizzando come dimensione la minore delle liste usate \n",
    "seq3 = [False, True]\n",
    "list(zip(seq1, seq2, seq3))"
   ]
  },
  {
   "cell_type": "code",
   "execution_count": 14,
   "metadata": {},
   "outputs": [
    {
     "name": "stdout",
     "output_type": "stream",
     "text": [
      "0: foo, one\n",
      "1: bar, two\n",
      "2: baz, three\n"
     ]
    }
   ],
   "source": [
    "# combinazione enumerate e zip\n",
    "for i, (a, b) in enumerate(zip(seq1, seq2)):\n",
    "    print('{0}: {1}, {2}'.format(i, a, b))"
   ]
  },
  {
   "cell_type": "code",
   "execution_count": 18,
   "metadata": {},
   "outputs": [
    {
     "name": "stdout",
     "output_type": "stream",
     "text": [
      "('Nolan', 'Roger', 'Schilling')\n",
      "('Ryan', 'Clemens', 'Curt')\n"
     ]
    }
   ],
   "source": [
    "# zip permette di creare delle liste a partire da una lista di tuple\n",
    "pitchers = [('Nolan', 'Ryan'), ('Roger', 'Clemens'), ('Schilling', 'Curt')]\n",
    "\n",
    "first_names, last_names = zip(*pitchers)\n",
    "\n",
    "print(first_names)\n",
    "\n",
    "print(last_names)"
   ]
  },
  {
   "cell_type": "code",
   "execution_count": 19,
   "metadata": {},
   "outputs": [
    {
     "data": {
      "text/plain": [
       "[9, 8, 7, 6, 5, 4, 3, 2, 1, 0]"
      ]
     },
     "execution_count": 19,
     "metadata": {},
     "output_type": "execute_result"
    }
   ],
   "source": [
    "# per avere un ordine inverso\n",
    "list(reversed(range(10)))"
   ]
  },
  {
   "cell_type": "markdown",
   "metadata": {},
   "source": [
    "## Dictionary\n",
    "\n",
    "#### Appunti\n",
    "\n",
    "Nomi alternativi: hash map o associative array.\n",
    "Di fatto una collezione key:value.\n",
    "Si crea con la parentesi graffa {key:value}\n",
    "\n",
    "Mentre i values possono essere qualsiasi oggetto di python, le chiavi devono essere dei valori immutabili.\n",
    "Questo e' esattamente il concetto di hashability (testabile con la funzione hash())\n",
    "\n",
    "Es: integer, strings e tuple\n"
   ]
  },
  {
   "cell_type": "code",
   "execution_count": 1,
   "metadata": {},
   "outputs": [],
   "source": [
    "empty_dict = {}"
   ]
  },
  {
   "cell_type": "code",
   "execution_count": 2,
   "metadata": {},
   "outputs": [
    {
     "data": {
      "text/plain": [
       "{'a': 'some value', 'b': [1, 2, 3, 4]}"
      ]
     },
     "execution_count": 2,
     "metadata": {},
     "output_type": "execute_result"
    }
   ],
   "source": [
    "d1 = {'a' : 'some value', 'b' : [1, 2, 3, 4]}\n",
    "d1"
   ]
  },
  {
   "cell_type": "code",
   "execution_count": 3,
   "metadata": {},
   "outputs": [
    {
     "name": "stdout",
     "output_type": "stream",
     "text": [
      "{'a': 'some value', 'b': [1, 2, 3, 4], 7: 'an integer'}\n"
     ]
    }
   ],
   "source": [
    "# modificabile senza limiti per quanto riguarda la tipologia dei dati\n",
    "d1[7] = 'an integer'\n",
    "print(d1)"
   ]
  },
  {
   "cell_type": "code",
   "execution_count": null,
   "metadata": {},
   "outputs": [],
   "source": [
    "# per controllare la presenza stessa sintassi delle liste\n",
    "'b' in d1"
   ]
  },
  {
   "cell_type": "code",
   "execution_count": 4,
   "metadata": {},
   "outputs": [
    {
     "name": "stdout",
     "output_type": "stream",
     "text": [
      "{'a': 'some value', 'b': [1, 2, 3, 4], 7: 'an integer', 5: 'some value', 'dummy': 'another value'}\n",
      "another value\n",
      "{'a': 'some value', 'b': [1, 2, 3, 4], 7: 'an integer'}\n"
     ]
    }
   ],
   "source": [
    "# per eliminare degli elementi si possono utilizzare ancora i metodi .remove e .pop\n",
    "d1[5] = 'some value'\n",
    "d1['dummy'] = 'another value'\n",
    "print(d1)\n",
    "\n",
    "del d1[5]\n",
    "ret = d1.pop('dummy')\n",
    "print(ret)\n",
    "print(d1)"
   ]
  },
  {
   "cell_type": "code",
   "execution_count": 5,
   "metadata": {},
   "outputs": [
    {
     "name": "stdout",
     "output_type": "stream",
     "text": [
      "['a', 'b', 7]\n",
      "['some value', [1, 2, 3, 4], 'an integer']\n"
     ]
    }
   ],
   "source": [
    "# ci sono 2 metodi fondamentali per estrarre chiavi e valori | ordine attuale non riordina\n",
    "print(list(d1.keys()))\n",
    "print(list(d1.values()))"
   ]
  },
  {
   "cell_type": "code",
   "execution_count": 6,
   "metadata": {},
   "outputs": [],
   "source": [
    "# per aggiungere / cambiare dei valori nel dict\n",
    "d1.update({'b' : 'foo', 'c' : 12})\n",
    "d1"
   ]
  },
  {
   "cell_type": "code",
   "execution_count": 8,
   "metadata": {},
   "outputs": [
    {
     "data": {
      "text/plain": [
       "{0: 4, 1: 3, 2: 2, 3: 1, 4: 0}"
      ]
     },
     "execution_count": 8,
     "metadata": {},
     "output_type": "execute_result"
    }
   ],
   "source": [
    "# per creare un dizionario zip risulta molto comodo\n",
    "# mapping = {}\n",
    "# for key, value in zip(key_list, value_list):\n",
    "#     mapping[key] = value\n",
    "\n",
    "\n",
    "mapping = dict(zip(range(5), reversed(range(5))))\n",
    "mapping"
   ]
  },
  {
   "cell_type": "code",
   "execution_count": 10,
   "metadata": {},
   "outputs": [
    {
     "data": {
      "text/plain": [
       "{'a': ['apple', 'atom'], 'b': ['bat', 'bar', 'book']}"
      ]
     },
     "execution_count": 10,
     "metadata": {},
     "output_type": "execute_result"
    }
   ],
   "source": [
    "# per controllare se un elemento e' presente nel dizionario, altrimenti assegnargli un valore di default\n",
    "# if key in some_dict:\n",
    "#     value = some_dict[key]\n",
    "# else:\n",
    "#     value = default_value\n",
    "\n",
    "words = ['apple', 'bat', 'bar', 'atom', 'book']\n",
    "\n",
    "by_letter = {}\n",
    "\n",
    "for word in words:\n",
    "    letter = word[0]\n",
    "    if letter not in by_letter:\n",
    "        by_letter[letter] = [word]\n",
    "    else:\n",
    "        by_letter[letter].append(word)\n",
    "\n",
    "by_letter"
   ]
  },
  {
   "cell_type": "markdown",
   "metadata": {},
   "source": [
    "## Sets\n",
    "\n",
    "#### Appunti\n",
    "\n",
    "Collezione non ordinata di elementi unici. Come dei dizionari ma senza valori (solo chiavi).\n",
    "\n",
    "Due modi per crearli set([1,2,3]) o {1,2,3}\n",
    "\n",
    "Controlla i molteplici metodi applicabili ai sets.\n",
    "\n",
    "Anche in questo caso gli elementi dovrebbero essere tendenzialmente immutabili. Per aggirare il problema si possono usare le tuple"
   ]
  },
  {
   "cell_type": "code",
   "execution_count": 1,
   "metadata": {},
   "outputs": [],
   "source": [
    "a = {1, 2, 3, 4, 5}\n",
    "b = {3, 4, 5, 6, 7, 8}"
   ]
  },
  {
   "cell_type": "code",
   "execution_count": 2,
   "metadata": {},
   "outputs": [
    {
     "name": "stdout",
     "output_type": "stream",
     "text": [
      "{1, 2, 3, 4, 5, 6, 7, 8}\n",
      "{1, 2, 3, 4, 5, 6, 7, 8}\n"
     ]
    }
   ],
   "source": [
    "# unione dei due insiemi\n",
    "print(a.union(b))\n",
    "print(a | b)"
   ]
  },
  {
   "cell_type": "code",
   "execution_count": 3,
   "metadata": {},
   "outputs": [
    {
     "name": "stdout",
     "output_type": "stream",
     "text": [
      "{3, 4, 5}\n",
      "{3, 4, 5}\n"
     ]
    }
   ],
   "source": [
    "# intersezione\n",
    "print(a.intersection(b))\n",
    "print(a & b)"
   ]
  },
  {
   "cell_type": "code",
   "execution_count": 4,
   "metadata": {},
   "outputs": [
    {
     "data": {
      "text/plain": [
       "True"
      ]
     },
     "execution_count": 4,
     "metadata": {},
     "output_type": "execute_result"
    }
   ],
   "source": [
    "a_set = {1, 2, 3, 4, 5}\n",
    "\n",
    "{1,2,3}.issubset(a_set)"
   ]
  },
  {
   "cell_type": "code",
   "execution_count": 5,
   "metadata": {},
   "outputs": [
    {
     "data": {
      "text/plain": [
       "True"
      ]
     },
     "execution_count": 5,
     "metadata": {},
     "output_type": "execute_result"
    }
   ],
   "source": [
    "# ricorda per essere uguali non devono essere ordinati\n",
    "{1, 2, 3} == {3, 2, 1}"
   ]
  },
  {
   "cell_type": "markdown",
   "metadata": {},
   "source": [
    "## List, Set and List Comprehension\n",
    "\n",
    "List comprehension e' un metodo molto amato perché permette di creare nuove liste filtrando gli elementi di una collezione.\n",
    "\n",
    "Quando si inizia a lavorare con le liste nested occorre prestare particolare attenzione perche' all'inizio puo' non sembrare banale"
   ]
  },
  {
   "cell_type": "code",
   "execution_count": 7,
   "metadata": {},
   "outputs": [
    {
     "data": {
      "text/plain": [
       "['BAT', 'CAR', 'DOVE', 'PYTHON']"
      ]
     },
     "execution_count": 7,
     "metadata": {},
     "output_type": "execute_result"
    }
   ],
   "source": [
    "# logica \n",
    "\n",
    "# [expr for val in collection if condition]\n",
    "# identico a:\n",
    "# result = []\n",
    "# for val in collection:\n",
    "#     if condition:\n",
    "#         result.append(expr)\n",
    "\n",
    "strings = ['a', 'as', 'bat', 'car', 'dove', 'python']\n",
    "\n",
    "[x.upper() for x in strings if len(x) > 2]"
   ]
  },
  {
   "cell_type": "code",
   "execution_count": 10,
   "metadata": {},
   "outputs": [
    {
     "name": "stdout",
     "output_type": "stream",
     "text": [
      "{'a': 0, 'as': 1, 'bat': 2, 'car': 3, 'dove': 4, 'python': 5}\n",
      "{1, 2, 3, 4, 6}\n"
     ]
    }
   ],
   "source": [
    "# stesso discorso per dicts e sets\n",
    "## dict\n",
    "# dict_comp = {key-expr : value-expr for value in collection\n",
    "#              if condition}\n",
    "loc_mapping = {val : index for index, val in enumerate(strings)}\n",
    "print(loc_mapping)\n",
    "## set\n",
    "# set_comp = {expr for value in collection if condition}\n",
    "unique_lengths = {len(x) for x in strings}\n",
    "print(unique_lengths)"
   ]
  },
  {
   "cell_type": "code",
   "execution_count": 9,
   "metadata": {},
   "outputs": [
    {
     "data": {
      "text/plain": [
       "{1, 2, 3, 4, 6}"
      ]
     },
     "execution_count": 9,
     "metadata": {},
     "output_type": "execute_result"
    }
   ],
   "source": [
    "# bonus = equivalente\n",
    "set(map(len, strings))"
   ]
  },
  {
   "cell_type": "code",
   "execution_count": 14,
   "metadata": {},
   "outputs": [
    {
     "data": {
      "text/plain": [
       "[1, 2, 3, 4, 5, 6, 7, 8, 9]"
      ]
     },
     "execution_count": 14,
     "metadata": {},
     "output_type": "execute_result"
    }
   ],
   "source": [
    "# nested list comprehension\n",
    "some_tuples = [(1, 2, 3), (4, 5, 6), (7, 8, 9)]\n",
    "flattened = [x for tup in some_tuples for x in tup]\n",
    "flattened\n",
    "\n",
    "# concettualmente questo e' l'equivalente tramite for loop\n",
    "# flattened = []\n",
    "# \n",
    "# for tup in some_tuples:\n",
    "#     for x in tup:\n",
    "#         flattened.append(x)"
   ]
  },
  {
   "cell_type": "markdown",
   "metadata": {},
   "source": [
    "## Functions\n",
    "\n",
    "#### Appunti\n",
    "\n",
    "In linea di massima si devono utilizzare le funzioni quando occorre ripetere una operazione piu' di una volta e per rendere il codice molto piu' leggibile.\n",
    "\n",
    "E' possibile inserire molteplici return all'interno della funzione; invece se non viene predisposto un return allora la funzione restituira' \"None\".\n",
    "\n",
    "Per gli argomenti valgono le regole di keyword (per assegnare dei default) e posizionale\n",
    "\n",
    "Ricorda sempre la distinzione tra namespace locale e globale\n",
    "\n",
    "Tramite la gestione degli errori e' possibile gestire TypeError e ValueError che pero' ad ora mi sembrano concetti troppo specifici"
   ]
  },
  {
   "cell_type": "code",
   "execution_count": 3,
   "metadata": {},
   "outputs": [
    {
     "name": "stdout",
     "output_type": "stream",
     "text": [
      "5\n",
      "6\n",
      "7\n",
      "{'a': 5, 'b': 6, 'c': 7}\n"
     ]
    }
   ],
   "source": [
    "# e' possibile restituire multi valori | tuple\n",
    "def f():\n",
    "    a = 5\n",
    "    b = 6\n",
    "    c = 7\n",
    "    return a, b, c\n",
    "\n",
    "a, b, c = f()\n",
    "\n",
    "print(a)\n",
    "print(b)\n",
    "print(c)\n",
    "\n",
    "def f():\n",
    "    a = 5\n",
    "    b = 6\n",
    "    c = 7\n",
    "    return {'a' : a, 'b' : b, 'c' : c}\n",
    "\n",
    "dict_out = f()\n",
    "print(dict_out)"
   ]
  },
  {
   "cell_type": "code",
   "execution_count": 5,
   "metadata": {},
   "outputs": [
    {
     "data": {
      "text/plain": [
       "['Alabama',\n",
       " 'Georgia',\n",
       " 'Georgia',\n",
       " 'Georgia',\n",
       " 'Florida',\n",
       " 'South   Carolina',\n",
       " 'West Virginia']"
      ]
     },
     "execution_count": 5,
     "metadata": {},
     "output_type": "execute_result"
    }
   ],
   "source": [
    "# e' possibile ciclare anche sulle funzioni\n",
    "import re\n",
    "\n",
    "def remove_punctuation(value):\n",
    "    return re.sub('[!#?]', '', value)\n",
    "\n",
    "clean_ops = [str.strip, remove_punctuation, str.title]\n",
    "\n",
    "def clean_strings(strings, ops):\n",
    "    result = []\n",
    "    for value in strings:\n",
    "        for function in ops:\n",
    "            value = function(value)\n",
    "        result.append(value)\n",
    "    return result\n",
    "\n",
    "states = ['   Alabama ', 'Georgia!', 'Georgia', 'georgia', 'FlOrIda',\n",
    "          'south   carolina##', 'West virginia?']\n",
    "\n",
    "clean_strings(states, clean_ops)"
   ]
  },
  {
   "cell_type": "code",
   "execution_count": 6,
   "metadata": {},
   "outputs": [
    {
     "data": {
      "text/plain": [
       "[8, 0, 2, 10, 12]"
      ]
     },
     "execution_count": 6,
     "metadata": {},
     "output_type": "execute_result"
    }
   ],
   "source": [
    "# lambda functions\n",
    "def apply_to_list(some_list, f):\n",
    "    return [f(x) for x in some_list]\n",
    "\n",
    "ints = [4, 0, 1, 5, 6]\n",
    "apply_to_list(ints, lambda x: x * 2)"
   ]
  },
  {
   "cell_type": "code",
   "execution_count": 7,
   "metadata": {},
   "outputs": [
    {
     "name": "stdout",
     "output_type": "stream",
     "text": [
      "A ['Alan', 'Adam']\n",
      "W ['Wes', 'Will']\n",
      "A ['Albert']\n",
      "S ['Steven']\n"
     ]
    }
   ],
   "source": [
    "# generators (ricontrollare)\n",
    "import itertools \n",
    "\n",
    "first_letter = lambda x: x[0]\n",
    "\n",
    "names = ['Alan', 'Adam', 'Wes', 'Will', 'Albert', 'Steven']\n",
    "\n",
    "for letter, names in itertools.groupby(names, first_letter):\n",
    "    print(letter, list(names)) # names is a generator\n",
    "    \n",
    "# per altri metodi utili di itertools guardare sul libro / stackoverflow"
   ]
  },
  {
   "cell_type": "code",
   "execution_count": 8,
   "metadata": {},
   "outputs": [
    {
     "name": "stdout",
     "output_type": "stream",
     "text": [
      "1.232\n",
      "daiprovaaconvertirequestoinnumero\n"
     ]
    }
   ],
   "source": [
    "# gestione errori\n",
    "def attempt_float(x):\n",
    "    try:\n",
    "        return float(x)\n",
    "    except:\n",
    "        return x\n",
    "    \n",
    "print(attempt_float('1.232'))\n",
    "print(attempt_float('daiprovaaconvertirequestoinnumero'))"
   ]
  },
  {
   "cell_type": "markdown",
   "metadata": {},
   "source": [
    "## File & Operating Systems\n",
    "\n",
    "#### Appunti\n",
    "\n",
    "Il problema della lettura dei file nel 99,9999999% dei casi riguarda l'encoding, per maggiori info: \n",
    "https://docs.python.org/3/howto/unicode.html"
   ]
  },
  {
   "cell_type": "code",
   "execution_count": null,
   "metadata": {},
   "outputs": [],
   "source": [
    "path = 'examples/segismundo.txt'\n",
    "f = open(path)\n",
    "\n",
    "for line in f:\n",
    "    pass\n",
    "\n",
    "lines = [x.rstrip() for x in open(path)]\n",
    "f.close()"
   ]
  },
  {
   "cell_type": "code",
   "execution_count": 1,
   "metadata": {},
   "outputs": [
    {
     "data": {
      "text/plain": [
       "'utf-8'"
      ]
     },
     "execution_count": 1,
     "metadata": {},
     "output_type": "execute_result"
    }
   ],
   "source": [
    "import sys\n",
    "\n",
    "sys.getdefaultencoding()"
   ]
  },
  {
   "cell_type": "code",
   "execution_count": 23,
   "metadata": {},
   "outputs": [],
   "source": [
    "import os\n",
    "\n",
    "os.chdir('C:/Users/cg08900/Documents/Pandora/Personale/python_for_data_analysis/datasets/')\n",
    "\n",
    "with open('FIFA_completo.csv', encoding='utf-8') as f:\n",
    "    lines = f.readlines()\n",
    "    data_out = []\n",
    "    for line in lines:\n",
    "        line_cl = line.replace('\\n', '')\n",
    "        line_cl = line_cl.split('|')\n",
    "        data_out.append(line_cl)\n",
    "    f.close()"
   ]
  },
  {
   "cell_type": "code",
   "execution_count": 24,
   "metadata": {},
   "outputs": [
    {
     "data": {
      "text/plain": [
       "[['NAME',\n",
       "  'CLUB',\n",
       "  'LEAGUE',\n",
       "  'POSITION',\n",
       "  'TIER',\n",
       "  'RATING',\n",
       "  'PACE',\n",
       "  'SHOOTING',\n",
       "  'PASSING',\n",
       "  'DRIBBLING',\n",
       "  'DEFENDING',\n",
       "  'PHYSICAL',\n",
       "  'LOADDATE',\n",
       "  'YEAR'],\n",
       " ['Gonzalo Higuaín',\n",
       "  'Napoli',\n",
       "  'Serie A',\n",
       "  'ST',\n",
       "  'Gold',\n",
       "  '95',\n",
       "  '90',\n",
       "  '98',\n",
       "  '83',\n",
       "  '93',\n",
       "  '34',\n",
       "  '85',\n",
       "  '2018-08-14 12:05:04',\n",
       "  '2016']]"
      ]
     },
     "execution_count": 24,
     "metadata": {},
     "output_type": "execute_result"
    }
   ],
   "source": [
    "data_out[:2]"
   ]
  },
  {
   "cell_type": "code",
   "execution_count": 25,
   "metadata": {},
   "outputs": [],
   "source": [
    "# trasformo la lista in dataframe\n",
    "import pandas as pd\n",
    "\n",
    "headers = data_out.pop(0)\n",
    "\n",
    "df = pd.DataFrame(data_out, columns=headers)"
   ]
  },
  {
   "cell_type": "code",
   "execution_count": 26,
   "metadata": {},
   "outputs": [
    {
     "data": {
      "text/html": [
       "<div>\n",
       "<style scoped>\n",
       "    .dataframe tbody tr th:only-of-type {\n",
       "        vertical-align: middle;\n",
       "    }\n",
       "\n",
       "    .dataframe tbody tr th {\n",
       "        vertical-align: top;\n",
       "    }\n",
       "\n",
       "    .dataframe thead th {\n",
       "        text-align: right;\n",
       "    }\n",
       "</style>\n",
       "<table border=\"1\" class=\"dataframe\">\n",
       "  <thead>\n",
       "    <tr style=\"text-align: right;\">\n",
       "      <th></th>\n",
       "      <th>NAME</th>\n",
       "      <th>CLUB</th>\n",
       "      <th>LEAGUE</th>\n",
       "      <th>POSITION</th>\n",
       "      <th>TIER</th>\n",
       "      <th>RATING</th>\n",
       "      <th>PACE</th>\n",
       "      <th>SHOOTING</th>\n",
       "      <th>PASSING</th>\n",
       "      <th>DRIBBLING</th>\n",
       "      <th>DEFENDING</th>\n",
       "      <th>PHYSICAL</th>\n",
       "      <th>LOADDATE</th>\n",
       "      <th>YEAR</th>\n",
       "    </tr>\n",
       "  </thead>\n",
       "  <tbody>\n",
       "    <tr>\n",
       "      <th>0</th>\n",
       "      <td>Gonzalo Higuaín</td>\n",
       "      <td>Napoli</td>\n",
       "      <td>Serie A</td>\n",
       "      <td>ST</td>\n",
       "      <td>Gold</td>\n",
       "      <td>95</td>\n",
       "      <td>90</td>\n",
       "      <td>98</td>\n",
       "      <td>83</td>\n",
       "      <td>93</td>\n",
       "      <td>34</td>\n",
       "      <td>85</td>\n",
       "      <td>2018-08-14 12:05:04</td>\n",
       "      <td>2016</td>\n",
       "    </tr>\n",
       "    <tr>\n",
       "      <th>1</th>\n",
       "      <td>Gonzalo Higuaín</td>\n",
       "      <td>Juventus</td>\n",
       "      <td>Serie A</td>\n",
       "      <td>ST</td>\n",
       "      <td>Gold</td>\n",
       "      <td>94</td>\n",
       "      <td>89</td>\n",
       "      <td>98</td>\n",
       "      <td>82</td>\n",
       "      <td>92</td>\n",
       "      <td>34</td>\n",
       "      <td>84</td>\n",
       "      <td>2018-08-14 12:05:04</td>\n",
       "      <td>2016</td>\n",
       "    </tr>\n",
       "    <tr>\n",
       "      <th>2</th>\n",
       "      <td>Gonzalo Higuaín</td>\n",
       "      <td>Napoli</td>\n",
       "      <td>Serie A</td>\n",
       "      <td>ST</td>\n",
       "      <td>Gold</td>\n",
       "      <td>93</td>\n",
       "      <td>88</td>\n",
       "      <td>97</td>\n",
       "      <td>82</td>\n",
       "      <td>92</td>\n",
       "      <td>34</td>\n",
       "      <td>83</td>\n",
       "      <td>2018-08-14 12:05:04</td>\n",
       "      <td>2016</td>\n",
       "    </tr>\n",
       "    <tr>\n",
       "      <th>3</th>\n",
       "      <td>Paul Pogba</td>\n",
       "      <td>Juventus</td>\n",
       "      <td>Serie A</td>\n",
       "      <td>CM</td>\n",
       "      <td>Gold</td>\n",
       "      <td>93</td>\n",
       "      <td>85</td>\n",
       "      <td>92</td>\n",
       "      <td>85</td>\n",
       "      <td>92</td>\n",
       "      <td>46</td>\n",
       "      <td>86</td>\n",
       "      <td>2018-08-14 12:05:04</td>\n",
       "      <td>2016</td>\n",
       "    </tr>\n",
       "    <tr>\n",
       "      <th>4</th>\n",
       "      <td>Francesco Totti</td>\n",
       "      <td>Roma</td>\n",
       "      <td>Serie A</td>\n",
       "      <td>CF</td>\n",
       "      <td>Gold</td>\n",
       "      <td>92</td>\n",
       "      <td>87</td>\n",
       "      <td>96</td>\n",
       "      <td>81</td>\n",
       "      <td>91</td>\n",
       "      <td>33</td>\n",
       "      <td>82</td>\n",
       "      <td>2018-08-14 12:05:04</td>\n",
       "      <td>2016</td>\n",
       "    </tr>\n",
       "    <tr>\n",
       "      <th>5</th>\n",
       "      <td>Gonzalo Higuaín</td>\n",
       "      <td>Napoli</td>\n",
       "      <td>Serie A</td>\n",
       "      <td>ST</td>\n",
       "      <td>Gold</td>\n",
       "      <td>92</td>\n",
       "      <td>90</td>\n",
       "      <td>90</td>\n",
       "      <td>88</td>\n",
       "      <td>93</td>\n",
       "      <td>31</td>\n",
       "      <td>68</td>\n",
       "      <td>2018-08-14 12:05:04</td>\n",
       "      <td>2016</td>\n",
       "    </tr>\n",
       "    <tr>\n",
       "      <th>6</th>\n",
       "      <td>Miranda</td>\n",
       "      <td>Inter</td>\n",
       "      <td>Serie A</td>\n",
       "      <td>CB</td>\n",
       "      <td>Gold</td>\n",
       "      <td>92</td>\n",
       "      <td>83</td>\n",
       "      <td>86</td>\n",
       "      <td>89</td>\n",
       "      <td>92</td>\n",
       "      <td>80</td>\n",
       "      <td>93</td>\n",
       "      <td>2018-08-14 12:05:04</td>\n",
       "      <td>2016</td>\n",
       "    </tr>\n",
       "    <tr>\n",
       "      <th>7</th>\n",
       "      <td>Paul Pogba</td>\n",
       "      <td>Juventus</td>\n",
       "      <td>Serie A</td>\n",
       "      <td>CM</td>\n",
       "      <td>Gold</td>\n",
       "      <td>92</td>\n",
       "      <td>95</td>\n",
       "      <td>94</td>\n",
       "      <td>88</td>\n",
       "      <td>92</td>\n",
       "      <td>43</td>\n",
       "      <td>85</td>\n",
       "      <td>2018-08-14 12:05:04</td>\n",
       "      <td>2016</td>\n",
       "    </tr>\n",
       "    <tr>\n",
       "      <th>8</th>\n",
       "      <td>Miralem Pjanić</td>\n",
       "      <td>Roma</td>\n",
       "      <td>Serie A</td>\n",
       "      <td>CM</td>\n",
       "      <td>Gold</td>\n",
       "      <td>91</td>\n",
       "      <td>93</td>\n",
       "      <td>92</td>\n",
       "      <td>87</td>\n",
       "      <td>96</td>\n",
       "      <td>32</td>\n",
       "      <td>73</td>\n",
       "      <td>2018-08-14 12:05:04</td>\n",
       "      <td>2016</td>\n",
       "    </tr>\n",
       "    <tr>\n",
       "      <th>9</th>\n",
       "      <td>Paulo Dybala</td>\n",
       "      <td>Juventus</td>\n",
       "      <td>Serie A</td>\n",
       "      <td>ST</td>\n",
       "      <td>Gold</td>\n",
       "      <td>91</td>\n",
       "      <td>82</td>\n",
       "      <td>81</td>\n",
       "      <td>89</td>\n",
       "      <td>87</td>\n",
       "      <td>90</td>\n",
       "      <td>89</td>\n",
       "      <td>2018-08-14 12:05:04</td>\n",
       "      <td>2016</td>\n",
       "    </tr>\n",
       "  </tbody>\n",
       "</table>\n",
       "</div>"
      ],
      "text/plain": [
       "              NAME      CLUB   LEAGUE POSITION  TIER RATING PACE SHOOTING  \\\n",
       "0  Gonzalo Higuaín    Napoli  Serie A       ST  Gold     95   90       98   \n",
       "1  Gonzalo Higuaín  Juventus  Serie A       ST  Gold     94   89       98   \n",
       "2  Gonzalo Higuaín    Napoli  Serie A       ST  Gold     93   88       97   \n",
       "3       Paul Pogba  Juventus  Serie A       CM  Gold     93   85       92   \n",
       "4  Francesco Totti      Roma  Serie A       CF  Gold     92   87       96   \n",
       "5  Gonzalo Higuaín    Napoli  Serie A       ST  Gold     92   90       90   \n",
       "6          Miranda     Inter  Serie A       CB  Gold     92   83       86   \n",
       "7       Paul Pogba  Juventus  Serie A       CM  Gold     92   95       94   \n",
       "8   Miralem Pjanić      Roma  Serie A       CM  Gold     91   93       92   \n",
       "9     Paulo Dybala  Juventus  Serie A       ST  Gold     91   82       81   \n",
       "\n",
       "  PASSING DRIBBLING DEFENDING PHYSICAL             LOADDATE  YEAR  \n",
       "0      83        93        34       85  2018-08-14 12:05:04  2016  \n",
       "1      82        92        34       84  2018-08-14 12:05:04  2016  \n",
       "2      82        92        34       83  2018-08-14 12:05:04  2016  \n",
       "3      85        92        46       86  2018-08-14 12:05:04  2016  \n",
       "4      81        91        33       82  2018-08-14 12:05:04  2016  \n",
       "5      88        93        31       68  2018-08-14 12:05:04  2016  \n",
       "6      89        92        80       93  2018-08-14 12:05:04  2016  \n",
       "7      88        92        43       85  2018-08-14 12:05:04  2016  \n",
       "8      87        96        32       73  2018-08-14 12:05:04  2016  \n",
       "9      89        87        90       89  2018-08-14 12:05:04  2016  "
      ]
     },
     "execution_count": 26,
     "metadata": {},
     "output_type": "execute_result"
    }
   ],
   "source": [
    "df.head(10)"
   ]
  },
  {
   "cell_type": "code",
   "execution_count": null,
   "metadata": {},
   "outputs": [],
   "source": []
  }
 ],
 "metadata": {
  "kernelspec": {
   "display_name": "Python 3",
   "language": "python",
   "name": "python3"
  },
  "language_info": {
   "codemirror_mode": {
    "name": "ipython",
    "version": 3
   },
   "file_extension": ".py",
   "mimetype": "text/x-python",
   "name": "python",
   "nbconvert_exporter": "python",
   "pygments_lexer": "ipython3",
   "version": "3.6.5"
  },
  "varInspector": {
   "cols": {
    "lenName": 16,
    "lenType": 16,
    "lenVar": 40
   },
   "kernels_config": {
    "python": {
     "delete_cmd_postfix": "",
     "delete_cmd_prefix": "del ",
     "library": "var_list.py",
     "varRefreshCmd": "print(var_dic_list())"
    },
    "r": {
     "delete_cmd_postfix": ") ",
     "delete_cmd_prefix": "rm(",
     "library": "var_list.r",
     "varRefreshCmd": "cat(var_dic_list()) "
    }
   },
   "position": {
    "height": "366px",
    "left": "1166px",
    "right": "20px",
    "top": "120px",
    "width": "350px"
   },
   "types_to_exclude": [
    "module",
    "function",
    "builtin_function_or_method",
    "instance",
    "_Feature"
   ],
   "window_display": false
  }
 },
 "nbformat": 4,
 "nbformat_minor": 2
}
