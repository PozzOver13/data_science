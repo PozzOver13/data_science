{
 "cells": [
  {
   "cell_type": "markdown",
   "metadata": {},
   "source": [
    "# Chapter 4. NumPy Basics: Arrays and Vectorized Computation\n",
    "\n",
    "NumPy, short for Numerical Python e' una libreria fondamentale in quanto molte delle funzioni di base per il calcolo numerico vengono da utilizzate da molte altre librerie\n",
    "\n",
    "- Array \n",
    "- Funzioni di calcolo, Algebra lineare\n",
    "- API per C++\n",
    "\n",
    "Il motivo principale del successo di numpy e' dovuto all'efficienza delle sue operazioni. Spesso le funzioni sono ottimizzate per essere vettoriali e non necessitano dei for loop.\n",
    "Inoltre a livello piu' basso Numpy alloca un blocco di memoria per ogni oggetto a cui C puo' accedere senza controlli e rallentamenti per via della sua API.\n",
    "\n",
    "RK = in numpy le sotto selezioni di un array sono solo delle \"viste\", questo significa che modificare le viste significa modificare anche l'array di provenienza. Questo e' un potenziale side effect della gestione efficiente della memoria di Numpy (sarebbe complesso copiare ogni oggetto, soprattutto se di grandi dimensioni)\n",
    "\n",
    "- axis 0 = rows\n",
    "- axis 1 = columns\n"
   ]
  },
  {
   "cell_type": "markdown",
   "metadata": {},
   "source": [
    "## Basics (Creazione, Slicing)"
   ]
  },
  {
   "cell_type": "code",
   "execution_count": 1,
   "metadata": {},
   "outputs": [
    {
     "name": "stdout",
     "output_type": "stream",
     "text": [
      "(2, 3)\n"
     ]
    }
   ],
   "source": [
    "import numpy as np\n",
    "\n",
    "data = np.random.randn(2, 3)\n",
    "\n",
    "print(data.shape)"
   ]
  },
  {
   "cell_type": "code",
   "execution_count": 3,
   "metadata": {},
   "outputs": [
    {
     "name": "stdout",
     "output_type": "stream",
     "text": [
      "[6.  7.5 8.  0.  1. ]\n",
      "[[1 2 3 4]\n",
      " [5 6 7 8]]\n"
     ]
    }
   ],
   "source": [
    "# ndarray con n = 1\n",
    "data1 = [6, 7.5, 8, 0, 1]\n",
    "\n",
    "arr1 = np.array(data1)\n",
    "\n",
    "print(arr1)\n",
    "\n",
    "# ndarray con n = 2\n",
    "data2 = [[1, 2, 3, 4], [5, 6, 7, 8]]\n",
    "\n",
    "arr2 = np.array(data2)\n",
    "\n",
    "print(arr2)"
   ]
  },
  {
   "cell_type": "code",
   "execution_count": 9,
   "metadata": {},
   "outputs": [
    {
     "name": "stdout",
     "output_type": "stream",
     "text": [
      "float64\n",
      "int32\n"
     ]
    }
   ],
   "source": [
    "# gli array contengono solo elementi dello stesso tipo che viene inferito automaticamente (oppure puo' essere specificato)\n",
    "print(arr1.dtype)\n",
    "print(arr2.dtype)"
   ]
  },
  {
   "cell_type": "code",
   "execution_count": 8,
   "metadata": {},
   "outputs": [
    {
     "name": "stdout",
     "output_type": "stream",
     "text": [
      "[0. 0. 0. 0. 0. 0. 0. 0. 0. 0.]\n",
      "[1. 1. 1. 1. 1. 1. 1. 1. 1. 1.]\n",
      "[[[1.02345468e-311 2.47032823e-322]\n",
      "  [0.00000000e+000 0.00000000e+000]\n",
      "  [0.00000000e+000 8.60952352e-072]]\n",
      "\n",
      " [[7.11577534e-091 6.11525890e+169]\n",
      "  [8.26131303e-072 5.15360957e-062]\n",
      "  [3.99910963e+252 1.24561223e-047]]]\n",
      "[[1. 0. 0. 0.]\n",
      " [0. 1. 0. 0.]\n",
      " [0. 0. 1. 0.]\n",
      " [0. 0. 0. 1.]]\n"
     ]
    }
   ],
   "source": [
    "# ci sono poi funzioni comode per creare array di zero, uno e vuoti\n",
    "print(np.zeros(10))\n",
    "print(np.ones(10))\n",
    "print(np.empty((2, 3, 2))) # -> non restituisce sempre degli zero\n",
    "print(np.eye(4))"
   ]
  },
  {
   "cell_type": "code",
   "execution_count": 11,
   "metadata": {},
   "outputs": [
    {
     "name": "stdout",
     "output_type": "stream",
     "text": [
      "int32\n",
      "float64\n"
     ]
    }
   ],
   "source": [
    "# e' possibile modificare \n",
    "arr = np.array([1, 2, 3, 4, 5])\n",
    "\n",
    "print(arr.dtype)\n",
    "\n",
    "float_arr = arr.astype(np.float64)\n",
    "\n",
    "print(float_arr.dtype)"
   ]
  },
  {
   "cell_type": "code",
   "execution_count": 13,
   "metadata": {},
   "outputs": [
    {
     "name": "stdout",
     "output_type": "stream",
     "text": [
      "[[ 1.  4.  9.]\n",
      " [16. 25. 36.]]\n",
      "[[0. 0. 0.]\n",
      " [0. 0. 0.]]\n",
      "[[False  True  True]\n",
      " [ True  True  True]]\n"
     ]
    }
   ],
   "source": [
    "# vectorization\n",
    "arr = np.array([[1., 2., 3.], [4., 5., 6.]])\n",
    "\n",
    "print(arr * arr)\n",
    "\n",
    "print(arr - arr)\n",
    "\n",
    "print(arr > 1)"
   ]
  },
  {
   "cell_type": "code",
   "execution_count": 16,
   "metadata": {},
   "outputs": [
    {
     "name": "stdout",
     "output_type": "stream",
     "text": [
      "[ True False False  True False False False]\n",
      "[[-1.18901837  1.46558426  1.57967519 -0.23738962]\n",
      " [ 0.49659807  1.07907458  0.80307205 -0.51656715]]\n",
      "[False  True  True False  True  True  True]\n",
      "[[-0.18324268  0.34240293  0.4932045  -0.28348884]\n",
      " [-1.0345055  -0.51979503  0.74210713  0.25857283]\n",
      " [ 0.26528695 -0.59426004 -1.80611096  0.2546663 ]\n",
      " [ 0.34850383  0.98580015 -0.52776956  0.18478134]\n",
      " [-0.51784086 -0.26788411 -1.3416049   0.34699733]]\n"
     ]
    }
   ],
   "source": [
    "# index slicing identico a R\n",
    "# boolean slicing\n",
    "names = np.array(['Bob', 'Joe', 'Will', 'Bob', 'Will', 'Joe', 'Joe'])\n",
    "data = np.random.randn(7, 4)\n",
    "\n",
    "print(names == 'Bob')\n",
    "\n",
    "print(data[names == 'Bob'])\n",
    "\n",
    "# negazione\n",
    "print(names != 'Bob')\n",
    "\n",
    "print(data[~(names == 'Bob')])"
   ]
  },
  {
   "cell_type": "code",
   "execution_count": 18,
   "metadata": {},
   "outputs": [
    {
     "data": {
      "text/plain": [
       "array([[-0.18324268,  0.34240293,  0.4932045 , -0.28348884],\n",
       "       [-1.0345055 , -0.51979503,  0.74210713,  0.25857283],\n",
       "       [ 0.26528695, -0.59426004, -1.80611096,  0.2546663 ],\n",
       "       [ 0.34850383,  0.98580015, -0.52776956,  0.18478134],\n",
       "       [-0.51784086, -0.26788411, -1.3416049 ,  0.34699733]])"
      ]
     },
     "execution_count": 18,
     "metadata": {},
     "output_type": "execute_result"
    }
   ],
   "source": [
    "# utile ~ perche' puo' ribaltare ogni condizione\n",
    "cond = names == 'Bob'\n",
    "\n",
    "data[~cond]"
   ]
  },
  {
   "cell_type": "code",
   "execution_count": 19,
   "metadata": {},
   "outputs": [
    {
     "name": "stdout",
     "output_type": "stream",
     "text": [
      "[0.         1.         1.41421356 1.73205081 2.         2.23606798\n",
      " 2.44948974 2.64575131 2.82842712 3.        ]\n",
      "[1.00000000e+00 2.71828183e+00 7.38905610e+00 2.00855369e+01\n",
      " 5.45981500e+01 1.48413159e+02 4.03428793e+02 1.09663316e+03\n",
      " 2.98095799e+03 8.10308393e+03]\n"
     ]
    }
   ],
   "source": [
    "# universal function (element-wise)\n",
    "arr = np.arange(10)\n",
    "\n",
    "print(np.sqrt(arr))\n",
    "\n",
    "print(np.exp(arr))"
   ]
  },
  {
   "cell_type": "code",
   "execution_count": 20,
   "metadata": {},
   "outputs": [
    {
     "data": {
      "text/plain": [
       "array([ 0.08408241,  1.56749928,  1.45828463, -0.08171239,  0.92485867,\n",
       "        1.00374153,  0.48858679,  0.04795574])"
      ]
     },
     "execution_count": 20,
     "metadata": {},
     "output_type": "execute_result"
    }
   ],
   "source": [
    "# element-wise utile\n",
    "x = np.random.randn(8)\n",
    "\n",
    "y = np.random.randn(8)\n",
    "\n",
    "np.maximum(x, y)"
   ]
  },
  {
   "cell_type": "code",
   "execution_count": 22,
   "metadata": {},
   "outputs": [
    {
     "name": "stdout",
     "output_type": "stream",
     "text": [
      "[1.1 2.2 1.3 1.4 2.5]\n"
     ]
    }
   ],
   "source": [
    "# ancora vectorization (ifelse concettualmente)\n",
    "xarr = np.array([1.1, 1.2, 1.3, 1.4, 1.5])\n",
    "\n",
    "yarr = np.array([2.1, 2.2, 2.3, 2.4, 2.5])\n",
    "\n",
    "cond = np.array([True, False, True, True, False])\n",
    "\n",
    "result = np.where(cond, xarr, yarr)\n",
    "\n",
    "print(result)"
   ]
  },
  {
   "cell_type": "code",
   "execution_count": 26,
   "metadata": {},
   "outputs": [
    {
     "name": "stdout",
     "output_type": "stream",
     "text": [
      "-0.23143896518020274\n",
      "-4.6287793036040545\n",
      "[ 0.29986957 -0.81023633 -0.01337353 -0.51194027 -0.12151428]\n",
      "[-0.34567535  0.04556204  0.14102386 -0.7666664 ]\n"
     ]
    }
   ],
   "source": [
    "# statistiche aggregate\n",
    "arr = np.random.randn(5, 4)\n",
    "\n",
    "print(arr.mean())\n",
    "print(arr.sum())\n",
    "\n",
    "# possibile fare anche somma colonna / riga\n",
    "print(arr.mean(axis=1))\n",
    "print(arr.mean(axis=0))"
   ]
  },
  {
   "cell_type": "code",
   "execution_count": 28,
   "metadata": {},
   "outputs": [
    {
     "data": {
      "text/plain": [
       "50"
      ]
     },
     "execution_count": 28,
     "metadata": {},
     "output_type": "execute_result"
    }
   ],
   "source": [
    "# somma di booleani\n",
    "arr = np.random.randn(100)\n",
    "(arr > 0).sum()"
   ]
  },
  {
   "cell_type": "code",
   "execution_count": 30,
   "metadata": {},
   "outputs": [
    {
     "name": "stdout",
     "output_type": "stream",
     "text": [
      "[-0.753565    0.60348224  0.69320153  0.74576178  1.44506259  1.67365674]\n"
     ]
    }
   ],
   "source": [
    "arr = np.random.randn(6)\n",
    "\n",
    "arr.sort()\n",
    "\n",
    "print(arr)"
   ]
  },
  {
   "cell_type": "code",
   "execution_count": 31,
   "metadata": {},
   "outputs": [
    {
     "data": {
      "text/plain": [
       "array(['Bob', 'Joe', 'Will'], dtype='<U4')"
      ]
     },
     "execution_count": 31,
     "metadata": {},
     "output_type": "execute_result"
    }
   ],
   "source": [
    "names = np.array(['Bob', 'Joe', 'Will', 'Bob', 'Will', 'Joe', 'Joe'])\n",
    "\n",
    "np.unique(names)"
   ]
  },
  {
   "cell_type": "markdown",
   "metadata": {},
   "source": [
    "## Algebra Lineare"
   ]
  },
  {
   "cell_type": "code",
   "execution_count": 32,
   "metadata": {},
   "outputs": [
    {
     "data": {
      "text/plain": [
       "array([[ 28.,  64.],\n",
       "       [ 67., 181.]])"
      ]
     },
     "execution_count": 32,
     "metadata": {},
     "output_type": "execute_result"
    }
   ],
   "source": [
    "x = np.array([[1., 2., 3.], [4., 5., 6.]])\n",
    "y = np.array([[6., 23.], [-1, 7], [8, 9]])\n",
    "\n",
    "x.dot(y)"
   ]
  },
  {
   "cell_type": "code",
   "execution_count": 33,
   "metadata": {},
   "outputs": [
    {
     "data": {
      "text/plain": [
       "array([[ 27061.72447445,  29301.71111414,  -4024.39428684,\n",
       "          6461.9752763 , -34037.59931858],\n",
       "       [ 29301.71111414,  31728.06378318,  -4357.39771623,\n",
       "          6996.78963338, -36855.41145686],\n",
       "       [ -4024.39428684,  -4357.39771623,    598.76980754,\n",
       "          -960.66857188,   5061.75990041],\n",
       "       [  6461.9752763 ,   6996.78963338,   -960.66857188,\n",
       "          1543.77753242,  -8127.72978534],\n",
       "       [-34037.59931858, -36855.41145686,   5061.75990041,\n",
       "         -8127.72978534,  42812.07878568]])"
      ]
     },
     "execution_count": 33,
     "metadata": {},
     "output_type": "execute_result"
    }
   ],
   "source": [
    "from numpy.linalg import inv, qr\n",
    "X = np.random.randn(5, 5)\n",
    "mat = X.T.dot(X)\n",
    "print(inv(mat))\n",
    "mat.dot(inv(mat))"
   ]
  },
  {
   "cell_type": "code",
   "execution_count": null,
   "metadata": {},
   "outputs": [],
   "source": []
  }
 ],
 "metadata": {
  "kernelspec": {
   "display_name": "Python 3",
   "language": "python",
   "name": "python3"
  },
  "language_info": {
   "codemirror_mode": {
    "name": "ipython",
    "version": 3
   },
   "file_extension": ".py",
   "mimetype": "text/x-python",
   "name": "python",
   "nbconvert_exporter": "python",
   "pygments_lexer": "ipython3",
   "version": "3.6.5"
  },
  "varInspector": {
   "cols": {
    "lenName": 16,
    "lenType": 16,
    "lenVar": 40
   },
   "kernels_config": {
    "python": {
     "delete_cmd_postfix": "",
     "delete_cmd_prefix": "del ",
     "library": "var_list.py",
     "varRefreshCmd": "print(var_dic_list())"
    },
    "r": {
     "delete_cmd_postfix": ") ",
     "delete_cmd_prefix": "rm(",
     "library": "var_list.r",
     "varRefreshCmd": "cat(var_dic_list()) "
    }
   },
   "types_to_exclude": [
    "module",
    "function",
    "builtin_function_or_method",
    "instance",
    "_Feature"
   ],
   "window_display": false
  }
 },
 "nbformat": 4,
 "nbformat_minor": 2
}
