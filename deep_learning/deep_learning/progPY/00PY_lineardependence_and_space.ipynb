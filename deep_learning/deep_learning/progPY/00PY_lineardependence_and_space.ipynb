{
 "cells": [
  {
   "cell_type": "markdown",
   "metadata": {},
   "source": [
    "# Deep Learning Book Series · 2.4 Linear Dependence and Span\n",
    "\n",
    "## Linear dependence\n",
    "\n",
    "The first thing to ask when we face such a system of equations is: what is the number of solutions ?\n",
    "\n",
    "Three cases can represent the number of solutions of the system of equations Ax=b.\n",
    "\n",
    "1. No solution\n",
    "2. 1 solution\n",
    "3. An infinite number of solutions\n",
    "\n",
    "rk = we need to underline that two possibilities exist to represent the system of equations: the row figure and the column figure.\n",
    "\n",
    "You can consider its rows or its columns separately. Recall that the values are the weights corresponding to each variable. Each row synthetizes one equation. Each column is the set of weights given to 1 variable.\n",
    "\n",
    "A linear system of equations can be viewed as a set of (n−1)-dimensional hyperplanes in a n-dimensional space. So the linear system can be characterized with its number of equations (m) and the number of unknown variables (n).\n",
    "\n",
    "- If there are more equations than unknows the system is called overdetermined. In the following example we can see a system of 3 equations (represented by 3 lines) and 2 unknowns (corresponding to 2 dimensions). In this example there is no solution since there is no point belonging to the three lines:\n",
    "\n",
    "- If there is more unknowns than equations the system is called underdetermined. In the following picture, there is only 1 equation (1 line) and 2 dimensions. Each point that is on the line is a solution of the system"
   ]
  },
  {
   "cell_type": "code",
   "execution_count": 3,
   "metadata": {},
   "outputs": [],
   "source": [
    "import numpy as np\n",
    "import matplotlib.pyplot as plt"
   ]
  },
  {
   "cell_type": "code",
   "execution_count": 2,
   "metadata": {},
   "outputs": [
    {
     "data": {
      "image/png": "[encoded data removed]",
      "text/plain": [
       "<matplotlib.figure.Figure at 0x1105ec0f0>"
      ]
     },
     "metadata": {},
     "output_type": "display_data"
    }
   ],
   "source": [
    "x = np.arange(-10, 10)\n",
    "y = 2*x + 1\n",
    "\n",
    "y1 = 6*x - 2\n",
    "y2 = 0.1*x+6\n",
    "\n",
    "plt.figure()\n",
    "plt.plot(x, y)\n",
    "plt.plot(x, y1)\n",
    "plt.plot(x, y2)\n",
    "plt.xlim(-2, 10)\n",
    "plt.ylim(-2, 10)\n",
    "# draw axes\n",
    "plt.axvline(x=0, color='#A9A9A9')\n",
    "plt.axhline(y=0, color='#A9A9A9')\n",
    "plt.show()\n",
    "plt.close()"
   ]
  },
  {
   "cell_type": "markdown",
   "metadata": {},
   "source": [
    "## Span\n",
    "Take the vectors v1 and v2  from the previous example and think about all the points you can reach by their combination changing a and b. This set of points is the span of the set of vectors v1 ,v2 .\n",
    "\n",
    "## Note on spaces and subspaces\n",
    "(For more details see Strang (2006), p.70)\n",
    "\n",
    "The space of a vector determines all the values that can be taken by this vector. The vector spaces are denoted ℝ because the values are real numbers. If there are multiple dimensions the space is denoted ℝn with n corresponding to the number of dimensions. For instance ℝ2 is the space of the usual x-y plane where x and y values are real numbers.\n",
    "\n",
    "If you take a 2-dimensional plane in ℝ3 (3-dimensional space), this plane is a subspace of your original ℝ3 space. On the same manner, if you start with a ℝ2 space and take a line in this space, this line is a subspace of the original space.\n",
    "\n",
    "The linear combination of vectors gives vectors in the original space. Every linear combination of vectors inside a space will stay in this space. For instance, if you take 2 lines in a ℝ2 space, any linear combinations will give you a vector in the same ℝ2 space."
   ]
  },
  {
   "cell_type": "code",
   "execution_count": null,
   "metadata": {},
   "outputs": [],
   "source": []
  }
 ],
 "metadata": {
  "kernelspec": {
   "display_name": "Python 3",
   "language": "python",
   "name": "python3"
  },
  "language_info": {
   "codemirror_mode": {
    "name": "ipython",
    "version": 3
   },
   "file_extension": ".py",
   "mimetype": "text/x-python",
   "name": "python",
   "nbconvert_exporter": "python",
   "pygments_lexer": "ipython3",
   "version": "3.6.4"
  }
 },
 "nbformat": 4,
 "nbformat_minor": 2
}
