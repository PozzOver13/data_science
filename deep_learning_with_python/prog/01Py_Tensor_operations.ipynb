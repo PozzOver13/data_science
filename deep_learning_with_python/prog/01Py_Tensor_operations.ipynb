{
 "cells": [
  {
   "cell_type": "markdown",
   "metadata": {},
   "source": [
    "# Tensor"
   ]
  },
  {
   "cell_type": "code",
   "execution_count": 10,
   "metadata": {},
   "outputs": [],
   "source": [
    "import numpy as np\n",
    "# 0 dimension = scalar\n",
    "x = np.array(12)\n",
    "# 1 dimension = vector\n",
    "x = np.array([12, 3, 6, 14])\n",
    "# 2 dimension = matrix\n",
    "x = np.array([[5, 78, 2, 34, 0],\n",
    "              [6, 79, 3, 35, 1],\n",
    "              [7, 80, 4, 36, 2]])\n",
    "# 3 dimension = cube\n",
    "x = np.array([[[5, 78, 2, 34, 0],\n",
    "               [6, 79, 3, 35, 1],\n",
    "               [7, 80, 4, 36, 2]],\n",
    "              [[5, 78, 2, 34, 0],\n",
    "               [6, 79, 3, 35, 1],\n",
    "               [7, 80, 4, 36, 2]],\n",
    "              [[5, 78, 2, 34, 0],\n",
    "               [6, 79, 3, 35, 1],\n",
    "               [7, 80, 4, 36, 2]]])"
   ]
  },
  {
   "cell_type": "code",
   "execution_count": 11,
   "metadata": {},
   "outputs": [
    {
     "data": {
      "text/plain": [
       "array([[[ 5, 78,  2, 34,  0],\n",
       "        [ 6, 79,  3, 35,  1],\n",
       "        [ 7, 80,  4, 36,  2]],\n",
       "\n",
       "       [[ 5, 78,  2, 34,  0],\n",
       "        [ 6, 79,  3, 35,  1],\n",
       "        [ 7, 80,  4, 36,  2]],\n",
       "\n",
       "       [[ 5, 78,  2, 34,  0],\n",
       "        [ 6, 79,  3, 35,  1],\n",
       "        [ 7, 80,  4, 36,  2]]])"
      ]
     },
     "execution_count": 11,
     "metadata": {},
     "output_type": "execute_result"
    }
   ],
   "source": [
    "x"
   ]
  },
  {
   "cell_type": "code",
   "execution_count": 9,
   "metadata": {},
   "outputs": [
    {
     "data": {
      "text/plain": [
       "2"
      ]
     },
     "execution_count": 9,
     "metadata": {},
     "output_type": "execute_result"
    }
   ],
   "source": [
    "x.ndim"
   ]
  },
  {
   "cell_type": "code",
   "execution_count": 12,
   "metadata": {},
   "outputs": [
    {
     "data": {
      "text/plain": [
       "(3, 3, 5)"
      ]
     },
     "execution_count": 12,
     "metadata": {},
     "output_type": "execute_result"
    }
   ],
   "source": [
    "x.shape"
   ]
  },
  {
   "cell_type": "code",
   "execution_count": 13,
   "metadata": {},
   "outputs": [
    {
     "data": {
      "text/plain": [
       "dtype('int32')"
      ]
     },
     "execution_count": 13,
     "metadata": {},
     "output_type": "execute_result"
    }
   ],
   "source": [
    "x.dtype"
   ]
  },
  {
   "cell_type": "code",
   "execution_count": 16,
   "metadata": {},
   "outputs": [
    {
     "data": {
      "text/plain": [
       "array([[[ 5, 78,  2, 34,  0],\n",
       "        [ 6, 79,  3, 35,  1],\n",
       "        [ 7, 80,  4, 36,  2]]])"
      ]
     },
     "execution_count": 16,
     "metadata": {},
     "output_type": "execute_result"
    }
   ],
   "source": [
    "x[1:2, :, :]"
   ]
  },
  {
   "cell_type": "code",
   "execution_count": null,
   "metadata": {},
   "outputs": [],
   "source": [
    "# axis 0 = asse delle osservazioni -> importante per il batch size"
   ]
  },
  {
   "cell_type": "code",
   "execution_count": null,
   "metadata": {},
   "outputs": [],
   "source": [
    "output = relu(dot(W, input) + b)"
   ]
  },
  {
   "cell_type": "code",
   "execution_count": 32,
   "metadata": {},
   "outputs": [],
   "source": [
    "# element-wise operations\n",
    "def naive_relu(x):\n",
    "    assert len(x.shape) == 2\n",
    "    x = x.copy()\n",
    "    for i in range(x.shape[0]):\n",
    "        for j in range(x.shape[1]):\n",
    "            x[i, j] = max(x[i, j], 0)\n",
    "            \n",
    "    return x\n",
    "\n",
    "def naive_add(x, y):\n",
    "    assert len(x.shape) == 2\n",
    "    assert x.shape == y.shape\n",
    "    x = x.copy()\n",
    "    for i in range(x.shape[0]):\n",
    "        for j in range(x.shape[1]):\n",
    "            x[i, j] += y[i, j]\n",
    "    return x"
   ]
  },
  {
   "cell_type": "code",
   "execution_count": 67,
   "metadata": {},
   "outputs": [
    {
     "name": "stdout",
     "output_type": "stream",
     "text": [
      "test\n",
      "[0.6959113]\n",
      "relu_test\n",
      "[0.6959113]\n",
      "test\n",
      "[-0.1639217]\n",
      "relu_test\n",
      "[0.]\n",
      "test\n",
      "[-0.06593987]\n",
      "relu_test\n",
      "[0.]\n"
     ]
    }
   ],
   "source": [
    "import numpy as np\n",
    "x = np.random.random((10, 5))\n",
    "y = np.random.random((10, 5))\n",
    "x + y\n",
    "\n",
    "for i in np.arange(3):\n",
    "    test = np.random.normal(0, 0.4, 1)\n",
    "    print('test')\n",
    "    print(test)\n",
    "    print('relu_test')\n",
    "    print(np.maximum(test, 0))"
   ]
  },
  {
   "cell_type": "code",
   "execution_count": 68,
   "metadata": {},
   "outputs": [
    {
     "name": "stdout",
     "output_type": "stream",
     "text": [
      "[[3.45072612e-01 5.10272923e-01 6.56857807e-01 2.08339096e-01\n",
      "  7.99839151e-01]\n",
      " [1.39581478e-01 1.54708189e-01 5.90095481e-01 3.90814834e-01\n",
      "  1.34161080e-01]\n",
      " [9.73627153e-01 9.70496435e-01 6.06625148e-01 4.24401238e-01\n",
      "  6.54462072e-01]\n",
      " [7.26757030e-01 5.67355244e-01 8.24626846e-01 9.78556670e-01\n",
      "  8.55371258e-04]\n",
      " [1.07824847e-01 1.31636984e-01 3.61565305e-01 1.32385233e-01\n",
      "  9.00031106e-01]\n",
      " [2.64440717e-01 3.03191629e-01 7.76787083e-01 7.46056684e-01\n",
      "  4.85712533e-03]\n",
      " [1.32116088e-01 5.52885484e-01 2.25748087e-02 5.70736076e-01\n",
      "  1.16880134e-02]\n",
      " [9.94020876e-01 7.14025263e-01 2.92153199e-01 4.69149569e-01\n",
      "  6.97662868e-01]\n",
      " [5.61243286e-01 9.58458073e-01 1.90126322e-01 4.36342246e-01\n",
      "  1.51260770e-01]\n",
      " [5.31874030e-01 2.38172286e-01 6.20444301e-02 1.71003174e-01\n",
      "  3.38473324e-01]]\n",
      "[0.32465211 0.6881459  0.20014557 0.77309463 0.12506949]\n"
     ]
    }
   ],
   "source": [
    "import numpy as np\n",
    "x = np.random.random((10, 5))\n",
    "y = np.random.random((5))\n",
    "print(x)\n",
    "print(y)"
   ]
  },
  {
   "cell_type": "code",
   "execution_count": 69,
   "metadata": {},
   "outputs": [
    {
     "data": {
      "text/plain": [
       "array([[0.66972472, 1.19841882, 0.85700337, 0.98143373, 0.92490864],\n",
       "       [0.46423358, 0.84285409, 0.79024105, 1.16390947, 0.25923057],\n",
       "       [1.29827926, 1.65864233, 0.80677072, 1.19749587, 0.77953156],\n",
       "       [1.05140914, 1.25550114, 1.02477241, 1.7516513 , 0.12592486],\n",
       "       [0.43247695, 0.81978288, 0.56171087, 0.90547987, 1.02510059],\n",
       "       [0.58909282, 0.99133753, 0.97693265, 1.51915132, 0.12992661],\n",
       "       [0.45676819, 1.24103138, 0.22272038, 1.34383071, 0.1367575 ],\n",
       "       [1.31867298, 1.40217116, 0.49229877, 1.2422442 , 0.82273236],\n",
       "       [0.88589539, 1.64660397, 0.39027189, 1.20943688, 0.27633026],\n",
       "       [0.85652614, 0.92631818, 0.26219   , 0.94409781, 0.46354281]])"
      ]
     },
     "execution_count": 69,
     "metadata": {},
     "output_type": "execute_result"
    }
   ],
   "source": [
    "x + y"
   ]
  },
  {
   "cell_type": "code",
   "execution_count": 87,
   "metadata": {},
   "outputs": [],
   "source": [
    "a = np.array([[2,3], [2,3], [2,3]])\n",
    "b = np.array([[2,3], [2,3]])"
   ]
  },
  {
   "cell_type": "code",
   "execution_count": 84,
   "metadata": {},
   "outputs": [],
   "source": [
    "def naive_vector_dot(x, y):\n",
    "    assert len(x.shape) == 1\n",
    "    assert len(y.shape) == 1\n",
    "    assert x.shape[0] == y.shape[0]\n",
    "    z = 0.\n",
    "    for i in range(x.shape[0]):\n",
    "        z += x[i] * y[i]\n",
    "    return z\n",
    "\n",
    "def naive_matrix_dot(x, y):\n",
    "    assert len(x.shape) == 2\n",
    "    assert len(y.shape) == 2\n",
    "    assert x.shape[1] == y.shape[0]\n",
    "    z = np.zeros((x.shape[0], y.shape[1]))\n",
    "    print(x.shape)\n",
    "    print(y.shape)\n",
    "    print(z)\n",
    "    for i in range(x.shape[0]):\n",
    "        for j in range(y.shape[1]):\n",
    "            row_x = x[i, :]\n",
    "            column_y = y[:, j]\n",
    "            z[i, j] = naive_vector_dot(row_x, column_y)\n",
    "    return z"
   ]
  },
  {
   "cell_type": "code",
   "execution_count": 73,
   "metadata": {},
   "outputs": [
    {
     "data": {
      "text/plain": [
       "array([[2, 3],\n",
       "       [2, 3]])"
      ]
     },
     "execution_count": 73,
     "metadata": {},
     "output_type": "execute_result"
    }
   ],
   "source": [
    "a"
   ]
  },
  {
   "cell_type": "code",
   "execution_count": 74,
   "metadata": {},
   "outputs": [
    {
     "data": {
      "text/plain": [
       "array([[2, 3],\n",
       "       [2, 3]])"
      ]
     },
     "execution_count": 74,
     "metadata": {},
     "output_type": "execute_result"
    }
   ],
   "source": [
    "b"
   ]
  },
  {
   "cell_type": "code",
   "execution_count": 77,
   "metadata": {},
   "outputs": [
    {
     "data": {
      "text/plain": [
       "array([[10., 15.],\n",
       "       [10., 15.]])"
      ]
     },
     "execution_count": 77,
     "metadata": {},
     "output_type": "execute_result"
    }
   ],
   "source": [
    "naive_matrix_dot(a, b)"
   ]
  },
  {
   "cell_type": "code",
   "execution_count": 90,
   "metadata": {},
   "outputs": [],
   "source": [
    "x = np.random.random((10, 5))\n",
    "y = np.random.random((5, 12))"
   ]
  },
  {
   "cell_type": "code",
   "execution_count": 91,
   "metadata": {},
   "outputs": [
    {
     "name": "stdout",
     "output_type": "stream",
     "text": [
      "(10, 5)\n",
      "(5, 12)\n",
      "[[0. 0. 0. 0. 0. 0. 0. 0. 0. 0. 0. 0.]\n",
      " [0. 0. 0. 0. 0. 0. 0. 0. 0. 0. 0. 0.]\n",
      " [0. 0. 0. 0. 0. 0. 0. 0. 0. 0. 0. 0.]\n",
      " [0. 0. 0. 0. 0. 0. 0. 0. 0. 0. 0. 0.]\n",
      " [0. 0. 0. 0. 0. 0. 0. 0. 0. 0. 0. 0.]\n",
      " [0. 0. 0. 0. 0. 0. 0. 0. 0. 0. 0. 0.]\n",
      " [0. 0. 0. 0. 0. 0. 0. 0. 0. 0. 0. 0.]\n",
      " [0. 0. 0. 0. 0. 0. 0. 0. 0. 0. 0. 0.]\n",
      " [0. 0. 0. 0. 0. 0. 0. 0. 0. 0. 0. 0.]\n",
      " [0. 0. 0. 0. 0. 0. 0. 0. 0. 0. 0. 0.]]\n"
     ]
    },
    {
     "data": {
      "text/plain": [
       "array([[1.66742991, 0.97532945, 1.95508435, 1.95611931, 2.20393385,\n",
       "        1.47077989, 1.87052302, 1.24784054, 2.44198519, 1.90858416,\n",
       "        1.08539535, 2.15259251],\n",
       "       [1.36146216, 0.86957587, 1.60518241, 2.02842554, 1.78177807,\n",
       "        1.23909987, 1.89407255, 0.87230845, 2.61804212, 1.42979018,\n",
       "        1.08286301, 2.29211519],\n",
       "       [0.94303594, 0.77750856, 1.30668709, 1.4346072 , 1.45788962,\n",
       "        1.11582462, 1.55890659, 0.86337034, 2.12786207, 1.18057525,\n",
       "        1.00870745, 2.12684077],\n",
       "       [1.26562579, 0.91162436, 1.46982785, 1.39199053, 1.67710087,\n",
       "        0.83991386, 1.88440452, 1.30223515, 2.06906033, 1.59002695,\n",
       "        0.77406415, 1.97472504],\n",
       "       [1.48122846, 0.92264805, 1.73794202, 1.76194926, 1.96910994,\n",
       "        1.2880008 , 1.8194819 , 1.11753004, 2.27893833, 1.709132  ,\n",
       "        0.93153064, 2.01309813],\n",
       "       [1.1723007 , 0.45102414, 1.10874541, 1.54196631, 1.16138627,\n",
       "        0.34327928, 1.14999931, 1.03543923, 1.7241834 , 1.11003839,\n",
       "        0.90747955, 1.46473377],\n",
       "       [1.04927873, 0.49802664, 0.93363403, 1.00178519, 1.06080729,\n",
       "        0.23304153, 1.16532735, 0.86635793, 1.15903027, 1.1018646 ,\n",
       "        0.2815729 , 0.83616639],\n",
       "       [1.6026663 , 0.99246429, 1.85539119, 2.00257353, 2.1052531 ,\n",
       "        1.42109778, 2.01263396, 1.04916282, 2.54189473, 1.77768177,\n",
       "        0.95809523, 2.15715592],\n",
       "       [0.94929588, 0.7190579 , 1.10639549, 1.01487497, 1.3004464 ,\n",
       "        0.7785068 , 1.457873  , 0.74135739, 1.48783613, 1.17414839,\n",
       "        0.37193939, 1.29466286],\n",
       "       [1.01894008, 0.66448102, 1.22918255, 1.51814939, 1.36469854,\n",
       "        0.97609151, 1.41945959, 0.67538934, 1.97922962, 1.09217417,\n",
       "        0.84672082, 1.76305268]])"
      ]
     },
     "execution_count": 91,
     "metadata": {},
     "output_type": "execute_result"
    }
   ],
   "source": [
    "naive_matrix_dot(x, y)"
   ]
  },
  {
   "cell_type": "code",
   "execution_count": 80,
   "metadata": {},
   "outputs": [
    {
     "data": {
      "text/plain": [
       "array([[2, 3],\n",
       "       [2, 3]])"
      ]
     },
     "execution_count": 80,
     "metadata": {},
     "output_type": "execute_result"
    }
   ],
   "source": [
    "a"
   ]
  },
  {
   "cell_type": "code",
   "execution_count": 100,
   "metadata": {},
   "outputs": [
    {
     "name": "stdout",
     "output_type": "stream",
     "text": [
      "[[0. 1.]\n",
      " [2. 3.]\n",
      " [4. 5.]]\n",
      "----------\n",
      "(3, 2)\n",
      "----------\n",
      "[[0.]\n",
      " [1.]\n",
      " [2.]\n",
      " [3.]\n",
      " [4.]\n",
      " [5.]]\n",
      "----------\n",
      "(6, 1)\n",
      "----------\n"
     ]
    }
   ],
   "source": [
    "x = np.array([[0., 1.], [2., 3.], [4., 5.]])\n",
    "print(x)\n",
    "print('----------')\n",
    "print(x.shape)\n",
    "print('----------')\n",
    "x = x.reshape((6, 1))\n",
    "print(x)\n",
    "print('----------')\n",
    "print(x.shape)\n",
    "print('----------')"
   ]
  },
  {
   "cell_type": "code",
   "execution_count": null,
   "metadata": {},
   "outputs": [],
   "source": []
  }
 ],
 "metadata": {
  "kernelspec": {
   "display_name": "Python 3",
   "language": "python",
   "name": "python3"
  },
  "language_info": {
   "codemirror_mode": {
    "name": "ipython",
    "version": 3
   },
   "file_extension": ".py",
   "mimetype": "text/x-python",
   "name": "python",
   "nbconvert_exporter": "python",
   "pygments_lexer": "ipython3",
   "version": "3.6.5"
  },
  "varInspector": {
   "cols": {
    "lenName": 16,
    "lenType": 16,
    "lenVar": 40
   },
   "kernels_config": {
    "python": {
     "delete_cmd_postfix": "",
     "delete_cmd_prefix": "del ",
     "library": "var_list.py",
     "varRefreshCmd": "print(var_dic_list())"
    },
    "r": {
     "delete_cmd_postfix": ") ",
     "delete_cmd_prefix": "rm(",
     "library": "var_list.r",
     "varRefreshCmd": "cat(var_dic_list()) "
    }
   },
   "types_to_exclude": [
    "module",
    "function",
    "builtin_function_or_method",
    "instance",
    "_Feature"
   ],
   "window_display": false
  }
 },
 "nbformat": 4,
 "nbformat_minor": 2
}
